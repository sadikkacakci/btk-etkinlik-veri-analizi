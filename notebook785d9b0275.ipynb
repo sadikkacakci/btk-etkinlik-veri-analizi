{
 "cells": [
  {
   "cell_type": "code",
   "execution_count": 1,
   "id": "cee15c05",
   "metadata": {
    "_cell_guid": "b1076dfc-b9ad-4769-8c92-a6c4dae69d19",
    "_uuid": "8f2839f25d086af736a60e9eeb907d3b93b6e0e5",
    "execution": {
     "iopub.execute_input": "2022-03-29T21:53:22.082737Z",
     "iopub.status.busy": "2022-03-29T21:53:22.081796Z",
     "iopub.status.idle": "2022-03-29T21:53:23.781735Z",
     "shell.execute_reply": "2022-03-29T21:53:23.780675Z",
     "shell.execute_reply.started": "2022-03-29T21:48:24.493955Z"
    },
    "papermill": {
     "duration": 1.761987,
     "end_time": "2022-03-29T21:53:23.781929",
     "exception": false,
     "start_time": "2022-03-29T21:53:22.019942",
     "status": "completed"
    },
    "tags": []
   },
   "outputs": [],
   "source": [
    "import numpy as np \n",
    "import pandas as pd \n",
    "import matplotlib.pyplot as plt\n",
    "import seaborn as sns\n",
    "data1 = pd.read_csv(\"../input/datathon2022/sample_solution.csv\")\n",
    "data2 = pd.read_csv(\"../input/datathon2022/testFeatures.csv\")\n",
    "data3 = pd.read_csv(\"../input/datathon2022/train.csv\")\n",
    "data4 = pd.read_csv(\"../input/enflasyonverisi/enflasyonlar2.csv\")\n",
    "# ../input/enflasyonverisi/enflasyonlar2.csv"
   ]
  },
  {
   "cell_type": "code",
   "execution_count": 2,
   "id": "98cf842d",
   "metadata": {
    "execution": {
     "iopub.execute_input": "2022-03-29T21:53:23.890392Z",
     "iopub.status.busy": "2022-03-29T21:53:23.888739Z",
     "iopub.status.idle": "2022-03-29T21:53:23.893738Z",
     "shell.execute_reply": "2022-03-29T21:53:23.893114Z",
     "shell.execute_reply.started": "2022-03-29T21:48:24.880329Z"
    },
    "papermill": {
     "duration": 0.064043,
     "end_time": "2022-03-29T21:53:23.893877",
     "exception": false,
     "start_time": "2022-03-29T21:53:23.829834",
     "status": "completed"
    },
    "tags": []
   },
   "outputs": [
    {
     "name": "stdout",
     "output_type": "stream",
     "text": [
      "<class 'str'>\n",
      "<class 'numpy.float64'>\n"
     ]
    }
   ],
   "source": [
    "data4.columns = [\"tarih\",\"enflasyon\"]\n",
    "df_enflasyon = pd.DataFrame(data = data4)\n",
    "df_enflasyon = df_enflasyon.apply(lambda x: x.str.replace(';', ''))\n",
    "print(type(df_enflasyon[\"enflasyon\"].values[0]))\n",
    "df_enflasyon[\"enflasyon\"] = df_enflasyon[\"enflasyon\"].astype(float)\n",
    "print(type(df_enflasyon[\"enflasyon\"].values[0]))"
   ]
  },
  {
   "cell_type": "code",
   "execution_count": 3,
   "id": "631a602a",
   "metadata": {
    "execution": {
     "iopub.execute_input": "2022-03-29T21:53:24.007632Z",
     "iopub.status.busy": "2022-03-29T21:53:23.997169Z",
     "iopub.status.idle": "2022-03-29T21:53:24.012027Z",
     "shell.execute_reply": "2022-03-29T21:53:24.011332Z",
     "shell.execute_reply.started": "2022-03-29T21:48:24.894434Z"
    },
    "papermill": {
     "duration": 0.070092,
     "end_time": "2022-03-29T21:53:24.012173",
     "exception": false,
     "start_time": "2022-03-29T21:53:23.942081",
     "status": "completed"
    },
    "tags": []
   },
   "outputs": [
    {
     "data": {
      "text/plain": [
       "'01-2016'"
      ]
     },
     "execution_count": 3,
     "metadata": {},
     "output_type": "execute_result"
    }
   ],
   "source": [
    "df_enflasyon[\"tarih\"] = pd.to_datetime(df_enflasyon[\"tarih\"])\n",
    "df_enflasyon[\"tarih\"] = df_enflasyon[\"tarih\"].dt.strftime('%m-%Y')\n",
    "df_enflasyon.tarih.values[0]"
   ]
  },
  {
   "cell_type": "code",
   "execution_count": 4,
   "id": "e1d9ec14",
   "metadata": {
    "execution": {
     "iopub.execute_input": "2022-03-29T21:53:24.256762Z",
     "iopub.status.busy": "2022-03-29T21:53:24.114176Z",
     "iopub.status.idle": "2022-03-29T21:53:24.282402Z",
     "shell.execute_reply": "2022-03-29T21:53:24.281205Z",
     "shell.execute_reply.started": "2022-03-29T21:48:24.911647Z"
    },
    "papermill": {
     "duration": 0.223059,
     "end_time": "2022-03-29T21:53:24.282715",
     "exception": false,
     "start_time": "2022-03-29T21:53:24.059656",
     "status": "completed"
    },
    "tags": []
   },
   "outputs": [
    {
     "name": "stdout",
     "output_type": "stream",
     "text": [
      "<class 'pandas.core.frame.DataFrame'>\n",
      "RangeIndex: 227520 entries, 0 to 227519\n",
      "Data columns (total 8 columns):\n",
      " #   Column             Non-Null Count   Dtype  \n",
      "---  ------             --------------   -----  \n",
      " 0   tarih              227520 non-null  object \n",
      " 1   ürün               227520 non-null  object \n",
      " 2   ürün besin değeri  227520 non-null  int64  \n",
      " 3   ürün kategorisi    227520 non-null  object \n",
      " 4   ürün fiyatı        227520 non-null  float64\n",
      " 5   ürün üretim yeri   227520 non-null  object \n",
      " 6   market             227520 non-null  object \n",
      " 7   şehir              227520 non-null  object \n",
      "dtypes: float64(1), int64(1), object(6)\n",
      "memory usage: 13.9+ MB\n"
     ]
    }
   ],
   "source": [
    "data3.info()"
   ]
  },
  {
   "cell_type": "code",
   "execution_count": 5,
   "id": "702e5235",
   "metadata": {
    "execution": {
     "iopub.execute_input": "2022-03-29T21:53:24.390056Z",
     "iopub.status.busy": "2022-03-29T21:53:24.389360Z",
     "iopub.status.idle": "2022-03-29T21:53:24.422491Z",
     "shell.execute_reply": "2022-03-29T21:53:24.421928Z",
     "shell.execute_reply.started": "2022-03-29T21:48:25.085231Z"
    },
    "papermill": {
     "duration": 0.089762,
     "end_time": "2022-03-29T21:53:24.422663",
     "exception": false,
     "start_time": "2022-03-29T21:53:24.332901",
     "status": "completed"
    },
    "tags": []
   },
   "outputs": [
    {
     "data": {
      "text/html": [
       "<div>\n",
       "<style scoped>\n",
       "    .dataframe tbody tr th:only-of-type {\n",
       "        vertical-align: middle;\n",
       "    }\n",
       "\n",
       "    .dataframe tbody tr th {\n",
       "        vertical-align: top;\n",
       "    }\n",
       "\n",
       "    .dataframe thead th {\n",
       "        text-align: right;\n",
       "    }\n",
       "</style>\n",
       "<table border=\"1\" class=\"dataframe\">\n",
       "  <thead>\n",
       "    <tr style=\"text-align: right;\">\n",
       "      <th></th>\n",
       "      <th>ürün besin değeri</th>\n",
       "      <th>ürün fiyatı</th>\n",
       "    </tr>\n",
       "  </thead>\n",
       "  <tbody>\n",
       "    <tr>\n",
       "      <th>count</th>\n",
       "      <td>227520.000000</td>\n",
       "      <td>227520.000000</td>\n",
       "    </tr>\n",
       "    <tr>\n",
       "      <th>mean</th>\n",
       "      <td>143.113924</td>\n",
       "      <td>16.348622</td>\n",
       "    </tr>\n",
       "    <tr>\n",
       "      <th>std</th>\n",
       "      <td>133.218871</td>\n",
       "      <td>13.260935</td>\n",
       "    </tr>\n",
       "    <tr>\n",
       "      <th>min</th>\n",
       "      <td>8.000000</td>\n",
       "      <td>0.730000</td>\n",
       "    </tr>\n",
       "    <tr>\n",
       "      <th>25%</th>\n",
       "      <td>41.000000</td>\n",
       "      <td>7.330000</td>\n",
       "    </tr>\n",
       "    <tr>\n",
       "      <th>50%</th>\n",
       "      <td>83.000000</td>\n",
       "      <td>12.600000</td>\n",
       "    </tr>\n",
       "    <tr>\n",
       "      <th>75%</th>\n",
       "      <td>250.000000</td>\n",
       "      <td>20.900000</td>\n",
       "    </tr>\n",
       "    <tr>\n",
       "      <th>max</th>\n",
       "      <td>402.000000</td>\n",
       "      <td>141.330000</td>\n",
       "    </tr>\n",
       "  </tbody>\n",
       "</table>\n",
       "</div>"
      ],
      "text/plain": [
       "       ürün besin değeri    ürün fiyatı\n",
       "count      227520.000000  227520.000000\n",
       "mean          143.113924      16.348622\n",
       "std           133.218871      13.260935\n",
       "min             8.000000       0.730000\n",
       "25%            41.000000       7.330000\n",
       "50%            83.000000      12.600000\n",
       "75%           250.000000      20.900000\n",
       "max           402.000000     141.330000"
      ]
     },
     "execution_count": 5,
     "metadata": {},
     "output_type": "execute_result"
    }
   ],
   "source": [
    "data3.describe()"
   ]
  },
  {
   "cell_type": "code",
   "execution_count": 6,
   "id": "a6095402",
   "metadata": {
    "execution": {
     "iopub.execute_input": "2022-03-29T21:53:24.524320Z",
     "iopub.status.busy": "2022-03-29T21:53:24.523649Z",
     "iopub.status.idle": "2022-03-29T21:53:24.886252Z",
     "shell.execute_reply": "2022-03-29T21:53:24.885450Z",
     "shell.execute_reply.started": "2022-03-29T21:48:25.118460Z"
    },
    "papermill": {
     "duration": 0.415131,
     "end_time": "2022-03-29T21:53:24.886463",
     "exception": false,
     "start_time": "2022-03-29T21:53:24.471332",
     "status": "completed"
    },
    "tags": []
   },
   "outputs": [
    {
     "data": {
      "text/html": [
       "<div>\n",
       "<style scoped>\n",
       "    .dataframe tbody tr th:only-of-type {\n",
       "        vertical-align: middle;\n",
       "    }\n",
       "\n",
       "    .dataframe tbody tr th {\n",
       "        vertical-align: top;\n",
       "    }\n",
       "\n",
       "    .dataframe thead th {\n",
       "        text-align: right;\n",
       "    }\n",
       "</style>\n",
       "<table border=\"1\" class=\"dataframe\">\n",
       "  <thead>\n",
       "    <tr style=\"text-align: right;\">\n",
       "      <th></th>\n",
       "      <th>tarih</th>\n",
       "      <th>ürün</th>\n",
       "      <th>ürün kategorisi</th>\n",
       "      <th>ürün üretim yeri</th>\n",
       "      <th>market</th>\n",
       "      <th>şehir</th>\n",
       "    </tr>\n",
       "  </thead>\n",
       "  <tbody>\n",
       "    <tr>\n",
       "      <th>count</th>\n",
       "      <td>227520</td>\n",
       "      <td>227520</td>\n",
       "      <td>227520</td>\n",
       "      <td>227520</td>\n",
       "      <td>227520</td>\n",
       "      <td>227520</td>\n",
       "    </tr>\n",
       "    <tr>\n",
       "      <th>unique</th>\n",
       "      <td>60</td>\n",
       "      <td>79</td>\n",
       "      <td>6</td>\n",
       "      <td>2</td>\n",
       "      <td>3</td>\n",
       "      <td>8</td>\n",
       "    </tr>\n",
       "    <tr>\n",
       "      <th>top</th>\n",
       "      <td>2016-01-01</td>\n",
       "      <td>kıyma</td>\n",
       "      <td>sebze ve bakliyat</td>\n",
       "      <td>Yurt içi</td>\n",
       "      <td>M</td>\n",
       "      <td>A</td>\n",
       "    </tr>\n",
       "    <tr>\n",
       "      <th>freq</th>\n",
       "      <td>3792</td>\n",
       "      <td>2880</td>\n",
       "      <td>83520</td>\n",
       "      <td>113760</td>\n",
       "      <td>75840</td>\n",
       "      <td>28440</td>\n",
       "    </tr>\n",
       "  </tbody>\n",
       "</table>\n",
       "</div>"
      ],
      "text/plain": [
       "             tarih    ürün    ürün kategorisi ürün üretim yeri  market   şehir\n",
       "count       227520  227520             227520           227520  227520  227520\n",
       "unique          60      79                  6                2       3       8\n",
       "top     2016-01-01   kıyma  sebze ve bakliyat         Yurt içi       M       A\n",
       "freq          3792    2880              83520           113760   75840   28440"
      ]
     },
     "execution_count": 6,
     "metadata": {},
     "output_type": "execute_result"
    }
   ],
   "source": [
    "data3.describe(include=['O'])"
   ]
  },
  {
   "cell_type": "code",
   "execution_count": 7,
   "id": "6f3a0d74",
   "metadata": {
    "execution": {
     "iopub.execute_input": "2022-03-29T21:53:24.998434Z",
     "iopub.status.busy": "2022-03-29T21:53:24.989201Z",
     "iopub.status.idle": "2022-03-29T21:53:25.089252Z",
     "shell.execute_reply": "2022-03-29T21:53:25.088476Z",
     "shell.execute_reply.started": "2022-03-29T21:48:25.490831Z"
    },
    "papermill": {
     "duration": 0.152134,
     "end_time": "2022-03-29T21:53:25.089424",
     "exception": false,
     "start_time": "2022-03-29T21:53:24.937290",
     "status": "completed"
    },
    "tags": []
   },
   "outputs": [
    {
     "name": "stdout",
     "output_type": "stream",
     "text": [
      "et\n",
      "sebze ve bakliyat\n",
      "tahıl ve ürünleri\n",
      "süt ürünleri ve kahvaltılık\n",
      "meyve\n",
      "kuruyemiş\n"
     ]
    },
    {
     "data": {
      "text/plain": [
       "array(['A', 'B', 'C', 'D', 'E', 'F', 'G', 'H'], dtype=object)"
      ]
     },
     "execution_count": 7,
     "metadata": {},
     "output_type": "execute_result"
    }
   ],
   "source": [
    "df3 = pd.DataFrame(data = data3)\n",
    "df2 = pd.DataFrame(data = data2)\n",
    "train_kategori = df3[\"ürün kategorisi\"].unique()\n",
    "train_besin_degeri = df3[\"ürün besin değeri\"]\n",
    "\n",
    "for kategori in train_kategori:\n",
    "    print(kategori)\n",
    "\n",
    "tarihler = df3[\"tarih\"].unique()\n",
    "all_ürünler = df3[\"ürün\"].unique()\n",
    "market = df3[\"market\"].unique()\n",
    "sehir = df3[\"şehir\"].unique()\n",
    "market\n",
    "sehir"
   ]
  },
  {
   "cell_type": "code",
   "execution_count": 8,
   "id": "3364abab",
   "metadata": {
    "execution": {
     "iopub.execute_input": "2022-03-29T21:53:25.194316Z",
     "iopub.status.busy": "2022-03-29T21:53:25.193654Z",
     "iopub.status.idle": "2022-03-29T21:53:25.466706Z",
     "shell.execute_reply": "2022-03-29T21:53:25.467220Z",
     "shell.execute_reply.started": "2022-03-29T21:48:25.597539Z"
    },
    "papermill": {
     "duration": 0.327673,
     "end_time": "2022-03-29T21:53:25.467413",
     "exception": false,
     "start_time": "2022-03-29T21:53:25.139740",
     "status": "completed"
    },
    "tags": []
   },
   "outputs": [
    {
     "data": {
      "text/plain": [
       "<AxesSubplot:>"
      ]
     },
     "execution_count": 8,
     "metadata": {},
     "output_type": "execute_result"
    },
    {
     "data": {
      "image/png": "[encoded data removed]",
      "text/plain": [
       "<Figure size 432x288 with 2 Axes>"
      ]
     },
     "metadata": {
      "needs_background": "light"
     },
     "output_type": "display_data"
    }
   ],
   "source": [
    "sns.heatmap(df3.corr(), annot = True)"
   ]
  },
  {
   "cell_type": "code",
   "execution_count": 9,
   "id": "79377314",
   "metadata": {
    "execution": {
     "iopub.execute_input": "2022-03-29T21:53:25.572352Z",
     "iopub.status.busy": "2022-03-29T21:53:25.571231Z",
     "iopub.status.idle": "2022-03-29T21:53:25.751460Z",
     "shell.execute_reply": "2022-03-29T21:53:25.752032Z",
     "shell.execute_reply.started": "2022-03-29T21:48:25.878306Z"
    },
    "papermill": {
     "duration": 0.234896,
     "end_time": "2022-03-29T21:53:25.752209",
     "exception": false,
     "start_time": "2022-03-29T21:53:25.517313",
     "status": "completed"
    },
    "tags": []
   },
   "outputs": [],
   "source": [
    "degerler = df3.duplicated()\n",
    "\n",
    "for deger in degerler:\n",
    "    if deger == True:\n",
    "        print(\"A\")"
   ]
  },
  {
   "cell_type": "code",
   "execution_count": 10,
   "id": "cb6fa337",
   "metadata": {
    "execution": {
     "iopub.execute_input": "2022-03-29T21:53:25.860057Z",
     "iopub.status.busy": "2022-03-29T21:53:25.859023Z",
     "iopub.status.idle": "2022-03-29T21:53:30.011235Z",
     "shell.execute_reply": "2022-03-29T21:53:30.010590Z",
     "shell.execute_reply.started": "2022-03-29T21:48:26.051259Z"
    },
    "papermill": {
     "duration": 4.206687,
     "end_time": "2022-03-29T21:53:30.011398",
     "exception": false,
     "start_time": "2022-03-29T21:53:25.804711",
     "status": "completed"
    },
    "tags": []
   },
   "outputs": [
    {
     "data": {
      "text/plain": [
       "<seaborn.axisgrid.PairGrid at 0x7fe5423006d0>"
      ]
     },
     "execution_count": 10,
     "metadata": {},
     "output_type": "execute_result"
    },
    {
     "data": {
      "image/png": "[encoded data removed]",
      "text/plain": [
       "<Figure size 360x360 with 6 Axes>"
      ]
     },
     "metadata": {
      "needs_background": "light"
     },
     "output_type": "display_data"
    }
   ],
   "source": [
    "sns.pairplot(df3)"
   ]
  },
  {
   "cell_type": "code",
   "execution_count": 11,
   "id": "f28b2a25",
   "metadata": {
    "execution": {
     "iopub.execute_input": "2022-03-29T21:53:30.159635Z",
     "iopub.status.busy": "2022-03-29T21:53:30.158889Z",
     "iopub.status.idle": "2022-03-29T21:53:30.848643Z",
     "shell.execute_reply": "2022-03-29T21:53:30.849162Z",
     "shell.execute_reply.started": "2022-03-29T21:48:30.100652Z"
    },
    "papermill": {
     "duration": 0.784474,
     "end_time": "2022-03-29T21:53:30.849345",
     "exception": false,
     "start_time": "2022-03-29T21:53:30.064871",
     "status": "completed"
    },
    "tags": []
   },
   "outputs": [
    {
     "name": "stdout",
     "output_type": "stream",
     "text": [
      "et --> 8640\n",
      "sebze ve bakliyat --> 83520\n",
      "tahıl ve ürünleri --> 34560\n",
      "süt ürünleri ve kahvaltılık --> 34560\n",
      "meyve --> 51840\n",
      "kuruyemiş --> 14400\n"
     ]
    },
    {
     "data": {
      "image/png": "[encoded data removed]",
      "text/plain": [
       "<Figure size 432x288 with 1 Axes>"
      ]
     },
     "metadata": {},
     "output_type": "display_data"
    }
   ],
   "source": [
    "#Kategorilerin Oranı\n",
    "lengths = []\n",
    "kategoriler = []\n",
    "for kategori in train_kategori:\n",
    "    length = len(df3.loc[df3[\"ürün kategorisi\"] == kategori])\n",
    "    print(f\"{kategori} --> {length}\")\n",
    "    lengths.append(len(df3.loc[df3[\"ürün kategorisi\"] == kategori]))\n",
    "    kategoriler.append(kategori)\n",
    "lengths\n",
    "\n",
    "plt.pie(lengths,labels = kategoriler, autopct='%1.2f%%')\n",
    "# plt.legend(title = \"Kategoriler\", loc = \"upper right\")\n",
    "plt.legend(title = \"Kategoriler\",bbox_to_anchor = (1, -0.1))\n",
    "plt.show()"
   ]
  },
  {
   "cell_type": "code",
   "execution_count": 12,
   "id": "ec940f1f",
   "metadata": {
    "execution": {
     "iopub.execute_input": "2022-03-29T21:53:30.962272Z",
     "iopub.status.busy": "2022-03-29T21:53:30.961578Z",
     "iopub.status.idle": "2022-03-29T21:53:31.671932Z",
     "shell.execute_reply": "2022-03-29T21:53:31.672413Z",
     "shell.execute_reply.started": "2022-03-29T21:48:30.831444Z"
    },
    "papermill": {
     "duration": 0.768166,
     "end_time": "2022-03-29T21:53:31.672616",
     "exception": false,
     "start_time": "2022-03-29T21:53:30.904450",
     "status": "completed"
    },
    "tags": []
   },
   "outputs": [
    {
     "data": {
      "text/html": [
       "<div>\n",
       "<style scoped>\n",
       "    .dataframe tbody tr th:only-of-type {\n",
       "        vertical-align: middle;\n",
       "    }\n",
       "\n",
       "    .dataframe tbody tr th {\n",
       "        vertical-align: top;\n",
       "    }\n",
       "\n",
       "    .dataframe thead th {\n",
       "        text-align: right;\n",
       "    }\n",
       "</style>\n",
       "<table border=\"1\" class=\"dataframe\">\n",
       "  <thead>\n",
       "    <tr style=\"text-align: right;\">\n",
       "      <th></th>\n",
       "      <th>yıl</th>\n",
       "      <th>ürün kategorisi</th>\n",
       "      <th>ürün fiyatı</th>\n",
       "    </tr>\n",
       "  </thead>\n",
       "  <tbody>\n",
       "    <tr>\n",
       "      <th>0</th>\n",
       "      <td>2016</td>\n",
       "      <td>et</td>\n",
       "      <td>20.122269</td>\n",
       "    </tr>\n",
       "    <tr>\n",
       "      <th>1</th>\n",
       "      <td>2016</td>\n",
       "      <td>kuruyemiş</td>\n",
       "      <td>17.109031</td>\n",
       "    </tr>\n",
       "    <tr>\n",
       "      <th>2</th>\n",
       "      <td>2016</td>\n",
       "      <td>meyve</td>\n",
       "      <td>5.662894</td>\n",
       "    </tr>\n",
       "    <tr>\n",
       "      <th>3</th>\n",
       "      <td>2016</td>\n",
       "      <td>sebze ve bakliyat</td>\n",
       "      <td>8.454689</td>\n",
       "    </tr>\n",
       "    <tr>\n",
       "      <th>4</th>\n",
       "      <td>2016</td>\n",
       "      <td>süt ürünleri ve kahvaltılık</td>\n",
       "      <td>14.503876</td>\n",
       "    </tr>\n",
       "    <tr>\n",
       "      <th>5</th>\n",
       "      <td>2016</td>\n",
       "      <td>tahıl ve ürünleri</td>\n",
       "      <td>5.414829</td>\n",
       "    </tr>\n",
       "    <tr>\n",
       "      <th>6</th>\n",
       "      <td>2017</td>\n",
       "      <td>et</td>\n",
       "      <td>25.238576</td>\n",
       "    </tr>\n",
       "    <tr>\n",
       "      <th>7</th>\n",
       "      <td>2017</td>\n",
       "      <td>kuruyemiş</td>\n",
       "      <td>21.403479</td>\n",
       "    </tr>\n",
       "    <tr>\n",
       "      <th>8</th>\n",
       "      <td>2017</td>\n",
       "      <td>meyve</td>\n",
       "      <td>7.090582</td>\n",
       "    </tr>\n",
       "    <tr>\n",
       "      <th>9</th>\n",
       "      <td>2017</td>\n",
       "      <td>sebze ve bakliyat</td>\n",
       "      <td>10.601573</td>\n",
       "    </tr>\n",
       "    <tr>\n",
       "      <th>10</th>\n",
       "      <td>2017</td>\n",
       "      <td>süt ürünleri ve kahvaltılık</td>\n",
       "      <td>18.188082</td>\n",
       "    </tr>\n",
       "    <tr>\n",
       "      <th>11</th>\n",
       "      <td>2017</td>\n",
       "      <td>tahıl ve ürünleri</td>\n",
       "      <td>6.779239</td>\n",
       "    </tr>\n",
       "    <tr>\n",
       "      <th>12</th>\n",
       "      <td>2018</td>\n",
       "      <td>et</td>\n",
       "      <td>33.369728</td>\n",
       "    </tr>\n",
       "    <tr>\n",
       "      <th>13</th>\n",
       "      <td>2018</td>\n",
       "      <td>kuruyemiş</td>\n",
       "      <td>28.072552</td>\n",
       "    </tr>\n",
       "    <tr>\n",
       "      <th>14</th>\n",
       "      <td>2018</td>\n",
       "      <td>meyve</td>\n",
       "      <td>9.347296</td>\n",
       "    </tr>\n",
       "    <tr>\n",
       "      <th>15</th>\n",
       "      <td>2018</td>\n",
       "      <td>sebze ve bakliyat</td>\n",
       "      <td>13.944897</td>\n",
       "    </tr>\n",
       "    <tr>\n",
       "      <th>16</th>\n",
       "      <td>2018</td>\n",
       "      <td>süt ürünleri ve kahvaltılık</td>\n",
       "      <td>23.945894</td>\n",
       "    </tr>\n",
       "    <tr>\n",
       "      <th>17</th>\n",
       "      <td>2018</td>\n",
       "      <td>tahıl ve ürünleri</td>\n",
       "      <td>8.926311</td>\n",
       "    </tr>\n",
       "    <tr>\n",
       "      <th>18</th>\n",
       "      <td>2019</td>\n",
       "      <td>et</td>\n",
       "      <td>44.107292</td>\n",
       "    </tr>\n",
       "    <tr>\n",
       "      <th>19</th>\n",
       "      <td>2019</td>\n",
       "      <td>kuruyemiş</td>\n",
       "      <td>36.889337</td>\n",
       "    </tr>\n",
       "    <tr>\n",
       "      <th>20</th>\n",
       "      <td>2019</td>\n",
       "      <td>meyve</td>\n",
       "      <td>12.291692</td>\n",
       "    </tr>\n",
       "    <tr>\n",
       "      <th>21</th>\n",
       "      <td>2019</td>\n",
       "      <td>sebze ve bakliyat</td>\n",
       "      <td>18.339276</td>\n",
       "    </tr>\n",
       "    <tr>\n",
       "      <th>22</th>\n",
       "      <td>2019</td>\n",
       "      <td>süt ürünleri ve kahvaltılık</td>\n",
       "      <td>31.546373</td>\n",
       "    </tr>\n",
       "    <tr>\n",
       "      <th>23</th>\n",
       "      <td>2019</td>\n",
       "      <td>tahıl ve ürünleri</td>\n",
       "      <td>11.723370</td>\n",
       "    </tr>\n",
       "    <tr>\n",
       "      <th>24</th>\n",
       "      <td>2020</td>\n",
       "      <td>et</td>\n",
       "      <td>55.776927</td>\n",
       "    </tr>\n",
       "    <tr>\n",
       "      <th>25</th>\n",
       "      <td>2020</td>\n",
       "      <td>kuruyemiş</td>\n",
       "      <td>46.771347</td>\n",
       "    </tr>\n",
       "    <tr>\n",
       "      <th>26</th>\n",
       "      <td>2020</td>\n",
       "      <td>meyve</td>\n",
       "      <td>15.571872</td>\n",
       "    </tr>\n",
       "    <tr>\n",
       "      <th>27</th>\n",
       "      <td>2020</td>\n",
       "      <td>sebze ve bakliyat</td>\n",
       "      <td>23.208409</td>\n",
       "    </tr>\n",
       "    <tr>\n",
       "      <th>28</th>\n",
       "      <td>2020</td>\n",
       "      <td>süt ürünleri ve kahvaltılık</td>\n",
       "      <td>39.914133</td>\n",
       "    </tr>\n",
       "    <tr>\n",
       "      <th>29</th>\n",
       "      <td>2020</td>\n",
       "      <td>tahıl ve ürünleri</td>\n",
       "      <td>14.837746</td>\n",
       "    </tr>\n",
       "  </tbody>\n",
       "</table>\n",
       "</div>"
      ],
      "text/plain": [
       "     yıl              ürün kategorisi  ürün fiyatı\n",
       "0   2016                           et    20.122269\n",
       "1   2016                    kuruyemiş    17.109031\n",
       "2   2016                        meyve     5.662894\n",
       "3   2016            sebze ve bakliyat     8.454689\n",
       "4   2016  süt ürünleri ve kahvaltılık    14.503876\n",
       "5   2016            tahıl ve ürünleri     5.414829\n",
       "6   2017                           et    25.238576\n",
       "7   2017                    kuruyemiş    21.403479\n",
       "8   2017                        meyve     7.090582\n",
       "9   2017            sebze ve bakliyat    10.601573\n",
       "10  2017  süt ürünleri ve kahvaltılık    18.188082\n",
       "11  2017            tahıl ve ürünleri     6.779239\n",
       "12  2018                           et    33.369728\n",
       "13  2018                    kuruyemiş    28.072552\n",
       "14  2018                        meyve     9.347296\n",
       "15  2018            sebze ve bakliyat    13.944897\n",
       "16  2018  süt ürünleri ve kahvaltılık    23.945894\n",
       "17  2018            tahıl ve ürünleri     8.926311\n",
       "18  2019                           et    44.107292\n",
       "19  2019                    kuruyemiş    36.889337\n",
       "20  2019                        meyve    12.291692\n",
       "21  2019            sebze ve bakliyat    18.339276\n",
       "22  2019  süt ürünleri ve kahvaltılık    31.546373\n",
       "23  2019            tahıl ve ürünleri    11.723370\n",
       "24  2020                           et    55.776927\n",
       "25  2020                    kuruyemiş    46.771347\n",
       "26  2020                        meyve    15.571872\n",
       "27  2020            sebze ve bakliyat    23.208409\n",
       "28  2020  süt ürünleri ve kahvaltılık    39.914133\n",
       "29  2020            tahıl ve ürünleri    14.837746"
      ]
     },
     "execution_count": 12,
     "metadata": {},
     "output_type": "execute_result"
    },
    {
     "data": {
      "image/png": "[encoded data removed]",
      "text/plain": [
       "<Figure size 360x360 with 1 Axes>"
      ]
     },
     "metadata": {
      "needs_background": "light"
     },
     "output_type": "display_data"
    }
   ],
   "source": [
    "#Yıllık\n",
    "df4 = df3.copy()\n",
    "df4[\"tarih\"] = pd.to_datetime(df4[\"tarih\"])\n",
    "df4[\"yıl\"] = df4.tarih.dt.year\n",
    "df4[\"ay\"] = df4.tarih.dt.month\n",
    "mean_df = pd.DataFrame(df4.groupby([\"yıl\", \"ürün kategorisi\"])[\"ürün fiyatı\"].mean())\n",
    "max_df = pd.DataFrame(df4.groupby([\"yıl\", \"ürün kategorisi\"])[\"ürün fiyatı\"].max())\n",
    "min_df = pd.DataFrame(df4.groupby([\"yıl\", \"ürün kategorisi\"])[\"ürün fiyatı\"].min())\n",
    "mean_df = mean_df.reset_index()\n",
    "max_df = max_df.reset_index()\n",
    "min_df = min_df.reset_index()\n",
    "mean_df\n",
    "mean2_df = mean_df.loc[mean_df[\"yıl\"] == 2016]\n",
    "sns.catplot(data = mean_df,x = \"ürün fiyatı\",y = \"ürün kategorisi\", kind = \"bar\")\n",
    "# sns.lineplot(data = mean_df,x = \"ürün fiyatı\",y = \"ürün kategorisi\")\n",
    "mean_df"
   ]
  },
  {
   "cell_type": "code",
   "execution_count": 13,
   "id": "5157fbd3",
   "metadata": {
    "execution": {
     "iopub.execute_input": "2022-03-29T21:53:31.792537Z",
     "iopub.status.busy": "2022-03-29T21:53:31.791535Z",
     "iopub.status.idle": "2022-03-29T21:53:44.188165Z",
     "shell.execute_reply": "2022-03-29T21:53:44.188691Z",
     "shell.execute_reply.started": "2022-03-29T21:48:31.528167Z"
    },
    "papermill": {
     "duration": 12.460605,
     "end_time": "2022-03-29T21:53:44.188879",
     "exception": false,
     "start_time": "2022-03-29T21:53:31.728274",
     "status": "completed"
    },
    "tags": []
   },
   "outputs": [
    {
     "data": {
      "text/plain": [
       "<seaborn.axisgrid.FacetGrid at 0x7fe541b52b90>"
      ]
     },
     "execution_count": 13,
     "metadata": {},
     "output_type": "execute_result"
    },
    {
     "data": {
      "image/png": "[encoded data removed]",
      "text/plain": [
       "<Figure size 1086.17x1728 with 1 Axes>"
      ]
     },
     "metadata": {
      "needs_background": "light"
     },
     "output_type": "display_data"
    }
   ],
   "source": [
    "sns.catplot(x=\"ürün fiyatı\", y=\"ürün\", hue=\"ürün üretim yeri\", kind=\"bar\",\\\n",
    "            data=df4, height=24, alpha=.8, aspect=3/5.2)"
   ]
  },
  {
   "cell_type": "code",
   "execution_count": 14,
   "id": "bc5feb2a",
   "metadata": {
    "execution": {
     "iopub.execute_input": "2022-03-29T21:53:44.332595Z",
     "iopub.status.busy": "2022-03-29T21:53:44.314330Z",
     "iopub.status.idle": "2022-03-29T21:53:44.498304Z",
     "shell.execute_reply": "2022-03-29T21:53:44.497701Z",
     "shell.execute_reply.started": "2022-03-29T21:48:44.275812Z"
    },
    "papermill": {
     "duration": 0.247844,
     "end_time": "2022-03-29T21:53:44.498458",
     "exception": false,
     "start_time": "2022-03-29T21:53:44.250614",
     "status": "completed"
    },
    "tags": []
   },
   "outputs": [
    {
     "data": {
      "text/plain": [
       "(170.0, 182.0)"
      ]
     },
     "execution_count": 14,
     "metadata": {},
     "output_type": "execute_result"
    },
    {
     "data": {
      "image/png": "[encoded data removed]",
      "text/plain": [
       "<Figure size 864x576 with 1 Axes>"
      ]
     },
     "metadata": {
      "needs_background": "light"
     },
     "output_type": "display_data"
    }
   ],
   "source": [
    "#YILLIK ARTIŞ ORANI\n",
    "#2016 ile 2020 arasındaki artış oranı kategori için\n",
    "# yıllar = [2016,2017,2018,2019,2020]\n",
    "yıllar = [2016,2020]\n",
    "artış_oranı_yıllık = []\n",
    "kategoriler = []\n",
    "for kategori in train_kategori:\n",
    "    temp_df4 = mean_df.loc[max_df[\"ürün kategorisi\"] == kategori]\n",
    "    fiyatlar = []\n",
    "    kategoriler.append(kategori)\n",
    "    for yıl in yıllar:\n",
    "        temp_df5 = temp_df4.loc[temp_df4[\"yıl\"] ==  yıl]\n",
    "        fiyat = temp_df5[\"ürün fiyatı\"].values[0]\n",
    "        fiyatlar.append(fiyat)\n",
    "#     print(fiyatlar)\n",
    "    oran = ((fiyatlar[1] - fiyatlar[0]) / fiyatlar[0]) * 100\n",
    "#     print(f\"{kategori} = Artış oranı --> %{oran}\")\n",
    "    artış_oranı_yıllık.append(oran)\n",
    "plt.figure(figsize = (12, 8))\n",
    "plt.bar(kategoriler, artış_oranı_yıllık)\n",
    "plt.ylim([170,182])"
   ]
  },
  {
   "cell_type": "code",
   "execution_count": 15,
   "id": "9692c7cf",
   "metadata": {
    "execution": {
     "iopub.execute_input": "2022-03-29T21:53:44.627557Z",
     "iopub.status.busy": "2022-03-29T21:53:44.626857Z",
     "iopub.status.idle": "2022-03-29T21:53:46.030326Z",
     "shell.execute_reply": "2022-03-29T21:53:46.029656Z",
     "shell.execute_reply.started": "2022-03-29T21:48:44.518949Z"
    },
    "papermill": {
     "duration": 1.467391,
     "end_time": "2022-03-29T21:53:46.030484",
     "exception": false,
     "start_time": "2022-03-29T21:53:44.563093",
     "status": "completed"
    },
    "tags": []
   },
   "outputs": [
    {
     "data": {
      "image/png": "[encoded data removed]",
      "text/plain": [
       "<Figure size 864x576 with 1 Axes>"
      ]
     },
     "metadata": {
      "needs_background": "light"
     },
     "output_type": "display_data"
    }
   ],
   "source": [
    "mean_df_ürün = pd.DataFrame(df4.groupby([\"yıl\", \"ürün\"])[\"ürün fiyatı\"].mean())\n",
    "mean_df_ürün = mean_df_ürün.reset_index()\n",
    "ürünler = mean_df_ürün[\"ürün\"].unique()\n",
    "yıllar = [2016,2020]\n",
    "artış_oranı_aylık = []\n",
    "for ürün in ürünler:\n",
    "    temp_df4 = mean_df_ürün.loc[mean_df_ürün[\"ürün\"] == ürün]\n",
    "    fiyatlar_ürün = []\n",
    "    for yıl in yıllar:\n",
    "        temp_df5 = temp_df4.loc[temp_df4[\"yıl\"] == yıl]\n",
    "        fiyatlar_ürün.append(temp_df5[\"ürün fiyatı\"].values[0])\n",
    "    oran = ((fiyatlar_ürün[1] - fiyatlar_ürün[0]) / fiyatlar_ürün[0]) * 100\n",
    "#     print(f\"{ürün} = Artış oranı --> %{oran}\")\n",
    "    artış_oranı_aylık.append(oran)\n",
    "plt.figure(figsize =(12, 8))\n",
    "plt.bar(ürünler, artış_oranı_aylık, color=\"#749e99\",edgecolor = \"w\")\n",
    "plt.ylim([165,182])\n",
    "# plt.axhline(sayı,color=\"blue\",linestyle = \"--\",linewidth = 0.5)\n",
    "plt.grid(color='red', linestyle=\"--\", linewidth=0.5, axis = \"y\")\n",
    "\n",
    "# plt.plot(ürünler,artış_oranı) .cor() fonksiyonu"
   ]
  },
  {
   "cell_type": "code",
   "execution_count": 16,
   "id": "2949a510",
   "metadata": {
    "execution": {
     "iopub.execute_input": "2022-03-29T21:53:46.162270Z",
     "iopub.status.busy": "2022-03-29T21:53:46.161633Z",
     "iopub.status.idle": "2022-03-29T21:53:46.171926Z",
     "shell.execute_reply": "2022-03-29T21:53:46.171380Z",
     "shell.execute_reply.started": "2022-03-29T21:48:45.943153Z"
    },
    "papermill": {
     "duration": 0.07888,
     "end_time": "2022-03-29T21:53:46.172070",
     "exception": false,
     "start_time": "2022-03-29T21:53:46.093190",
     "status": "completed"
    },
    "tags": []
   },
   "outputs": [
    {
     "data": {
      "text/html": [
       "<div>\n",
       "<style scoped>\n",
       "    .dataframe tbody tr th:only-of-type {\n",
       "        vertical-align: middle;\n",
       "    }\n",
       "\n",
       "    .dataframe tbody tr th {\n",
       "        vertical-align: top;\n",
       "    }\n",
       "\n",
       "    .dataframe thead th {\n",
       "        text-align: right;\n",
       "    }\n",
       "</style>\n",
       "<table border=\"1\" class=\"dataframe\">\n",
       "  <thead>\n",
       "    <tr style=\"text-align: right;\">\n",
       "      <th></th>\n",
       "      <th>tarih</th>\n",
       "      <th>enflasyon</th>\n",
       "    </tr>\n",
       "  </thead>\n",
       "  <tbody>\n",
       "    <tr>\n",
       "      <th>0</th>\n",
       "      <td>01-2016</td>\n",
       "      <td>9.58</td>\n",
       "    </tr>\n",
       "    <tr>\n",
       "      <th>1</th>\n",
       "      <td>02-2016</td>\n",
       "      <td>8.78</td>\n",
       "    </tr>\n",
       "    <tr>\n",
       "      <th>2</th>\n",
       "      <td>03-2016</td>\n",
       "      <td>7.46</td>\n",
       "    </tr>\n",
       "    <tr>\n",
       "      <th>3</th>\n",
       "      <td>04-2016</td>\n",
       "      <td>6.57</td>\n",
       "    </tr>\n",
       "    <tr>\n",
       "      <th>4</th>\n",
       "      <td>05-2016</td>\n",
       "      <td>6.58</td>\n",
       "    </tr>\n",
       "    <tr>\n",
       "      <th>...</th>\n",
       "      <td>...</td>\n",
       "      <td>...</td>\n",
       "    </tr>\n",
       "    <tr>\n",
       "      <th>67</th>\n",
       "      <td>08-2021</td>\n",
       "      <td>19.25</td>\n",
       "    </tr>\n",
       "    <tr>\n",
       "      <th>68</th>\n",
       "      <td>09-2021</td>\n",
       "      <td>19.58</td>\n",
       "    </tr>\n",
       "    <tr>\n",
       "      <th>69</th>\n",
       "      <td>10-2021</td>\n",
       "      <td>19.89</td>\n",
       "    </tr>\n",
       "    <tr>\n",
       "      <th>70</th>\n",
       "      <td>11-2021</td>\n",
       "      <td>21.31</td>\n",
       "    </tr>\n",
       "    <tr>\n",
       "      <th>71</th>\n",
       "      <td>12-2021</td>\n",
       "      <td>36.08</td>\n",
       "    </tr>\n",
       "  </tbody>\n",
       "</table>\n",
       "<p>72 rows × 2 columns</p>\n",
       "</div>"
      ],
      "text/plain": [
       "      tarih  enflasyon\n",
       "0   01-2016       9.58\n",
       "1   02-2016       8.78\n",
       "2   03-2016       7.46\n",
       "3   04-2016       6.57\n",
       "4   05-2016       6.58\n",
       "..      ...        ...\n",
       "67  08-2021      19.25\n",
       "68  09-2021      19.58\n",
       "69  10-2021      19.89\n",
       "70  11-2021      21.31\n",
       "71  12-2021      36.08\n",
       "\n",
       "[72 rows x 2 columns]"
      ]
     },
     "execution_count": 16,
     "metadata": {},
     "output_type": "execute_result"
    }
   ],
   "source": [
    "df_enflasyon"
   ]
  },
  {
   "cell_type": "code",
   "execution_count": 17,
   "id": "77f369b1",
   "metadata": {
    "execution": {
     "iopub.execute_input": "2022-03-29T21:53:46.304047Z",
     "iopub.status.busy": "2022-03-29T21:53:46.303304Z",
     "iopub.status.idle": "2022-03-29T21:53:49.098713Z",
     "shell.execute_reply": "2022-03-29T21:53:49.098123Z",
     "shell.execute_reply.started": "2022-03-29T21:48:45.960006Z"
    },
    "papermill": {
     "duration": 2.864405,
     "end_time": "2022-03-29T21:53:49.098871",
     "exception": false,
     "start_time": "2022-03-29T21:53:46.234466",
     "status": "completed"
    },
    "tags": []
   },
   "outputs": [
    {
     "name": "stderr",
     "output_type": "stream",
     "text": [
      "/opt/conda/lib/python3.7/site-packages/ipykernel_launcher.py:9: SettingWithCopyWarning: \n",
      "A value is trying to be set on a copy of a slice from a DataFrame.\n",
      "Try using .loc[row_indexer,col_indexer] = value instead\n",
      "\n",
      "See the caveats in the documentation: https://pandas.pydata.org/pandas-docs/stable/user_guide/indexing.html#returning-a-view-versus-a-copy\n",
      "  if __name__ == '__main__':\n"
     ]
    },
    {
     "data": {
      "text/html": [
       "<div>\n",
       "<style scoped>\n",
       "    .dataframe tbody tr th:only-of-type {\n",
       "        vertical-align: middle;\n",
       "    }\n",
       "\n",
       "    .dataframe tbody tr th {\n",
       "        vertical-align: top;\n",
       "    }\n",
       "\n",
       "    .dataframe thead th {\n",
       "        text-align: right;\n",
       "    }\n",
       "</style>\n",
       "<table border=\"1\" class=\"dataframe\">\n",
       "  <thead>\n",
       "    <tr style=\"text-align: right;\">\n",
       "      <th></th>\n",
       "      <th>tarih</th>\n",
       "      <th>ürün</th>\n",
       "      <th>ürün besin değeri</th>\n",
       "      <th>ürün kategorisi</th>\n",
       "      <th>ürün fiyatı</th>\n",
       "      <th>ürün üretim yeri</th>\n",
       "      <th>market</th>\n",
       "      <th>şehir</th>\n",
       "      <th>gün</th>\n",
       "    </tr>\n",
       "  </thead>\n",
       "  <tbody>\n",
       "    <tr>\n",
       "      <th>0</th>\n",
       "      <td>2016-01-01</td>\n",
       "      <td>kıyma</td>\n",
       "      <td>120</td>\n",
       "      <td>et</td>\n",
       "      <td>33.41</td>\n",
       "      <td>Yurt içi</td>\n",
       "      <td>M</td>\n",
       "      <td>A</td>\n",
       "      <td>4</td>\n",
       "    </tr>\n",
       "    <tr>\n",
       "      <th>1</th>\n",
       "      <td>2016-01-01</td>\n",
       "      <td>tavuk</td>\n",
       "      <td>103</td>\n",
       "      <td>et</td>\n",
       "      <td>11.22</td>\n",
       "      <td>Yurt içi</td>\n",
       "      <td>M</td>\n",
       "      <td>A</td>\n",
       "      <td>4</td>\n",
       "    </tr>\n",
       "    <tr>\n",
       "      <th>2</th>\n",
       "      <td>2016-01-01</td>\n",
       "      <td>hindi</td>\n",
       "      <td>160</td>\n",
       "      <td>et</td>\n",
       "      <td>11.12</td>\n",
       "      <td>Yurt içi</td>\n",
       "      <td>M</td>\n",
       "      <td>A</td>\n",
       "      <td>4</td>\n",
       "    </tr>\n",
       "    <tr>\n",
       "      <th>3</th>\n",
       "      <td>2016-01-01</td>\n",
       "      <td>Bakla-kuru</td>\n",
       "      <td>354</td>\n",
       "      <td>sebze ve bakliyat</td>\n",
       "      <td>7.02</td>\n",
       "      <td>Yurt içi</td>\n",
       "      <td>M</td>\n",
       "      <td>A</td>\n",
       "      <td>4</td>\n",
       "    </tr>\n",
       "    <tr>\n",
       "      <th>4</th>\n",
       "      <td>2016-01-01</td>\n",
       "      <td>Bakla-taze</td>\n",
       "      <td>72</td>\n",
       "      <td>sebze ve bakliyat</td>\n",
       "      <td>13.14</td>\n",
       "      <td>Yurt içi</td>\n",
       "      <td>M</td>\n",
       "      <td>A</td>\n",
       "      <td>4</td>\n",
       "    </tr>\n",
       "    <tr>\n",
       "      <th>...</th>\n",
       "      <td>...</td>\n",
       "      <td>...</td>\n",
       "      <td>...</td>\n",
       "      <td>...</td>\n",
       "      <td>...</td>\n",
       "      <td>...</td>\n",
       "      <td>...</td>\n",
       "      <td>...</td>\n",
       "      <td>...</td>\n",
       "    </tr>\n",
       "    <tr>\n",
       "      <th>227515</th>\n",
       "      <td>2020-12-01</td>\n",
       "      <td>fındık</td>\n",
       "      <td>110</td>\n",
       "      <td>kuruyemiş</td>\n",
       "      <td>51.19</td>\n",
       "      <td>Yurt dışı</td>\n",
       "      <td>B</td>\n",
       "      <td>H</td>\n",
       "      <td>1</td>\n",
       "    </tr>\n",
       "    <tr>\n",
       "      <th>227516</th>\n",
       "      <td>2020-12-01</td>\n",
       "      <td>fıstık</td>\n",
       "      <td>115</td>\n",
       "      <td>kuruyemiş</td>\n",
       "      <td>55.14</td>\n",
       "      <td>Yurt dışı</td>\n",
       "      <td>B</td>\n",
       "      <td>H</td>\n",
       "      <td>1</td>\n",
       "    </tr>\n",
       "    <tr>\n",
       "      <th>227517</th>\n",
       "      <td>2020-12-01</td>\n",
       "      <td>kaju</td>\n",
       "      <td>100</td>\n",
       "      <td>kuruyemiş</td>\n",
       "      <td>58.60</td>\n",
       "      <td>Yurt dışı</td>\n",
       "      <td>B</td>\n",
       "      <td>H</td>\n",
       "      <td>1</td>\n",
       "    </tr>\n",
       "    <tr>\n",
       "      <th>227518</th>\n",
       "      <td>2020-12-01</td>\n",
       "      <td>badem</td>\n",
       "      <td>110</td>\n",
       "      <td>kuruyemiş</td>\n",
       "      <td>51.83</td>\n",
       "      <td>Yurt dışı</td>\n",
       "      <td>B</td>\n",
       "      <td>H</td>\n",
       "      <td>1</td>\n",
       "    </tr>\n",
       "    <tr>\n",
       "      <th>227519</th>\n",
       "      <td>2020-12-01</td>\n",
       "      <td>ceviz</td>\n",
       "      <td>120</td>\n",
       "      <td>kuruyemiş</td>\n",
       "      <td>57.22</td>\n",
       "      <td>Yurt dışı</td>\n",
       "      <td>B</td>\n",
       "      <td>H</td>\n",
       "      <td>1</td>\n",
       "    </tr>\n",
       "  </tbody>\n",
       "</table>\n",
       "<p>227520 rows × 9 columns</p>\n",
       "</div>"
      ],
      "text/plain": [
       "             tarih        ürün  ürün besin değeri    ürün kategorisi  \\\n",
       "0       2016-01-01       kıyma                120                 et   \n",
       "1       2016-01-01       tavuk                103                 et   \n",
       "2       2016-01-01       hindi                160                 et   \n",
       "3       2016-01-01  Bakla-kuru                354  sebze ve bakliyat   \n",
       "4       2016-01-01  Bakla-taze                 72  sebze ve bakliyat   \n",
       "...            ...         ...                ...                ...   \n",
       "227515  2020-12-01      fındık                110          kuruyemiş   \n",
       "227516  2020-12-01      fıstık                115          kuruyemiş   \n",
       "227517  2020-12-01        kaju                100          kuruyemiş   \n",
       "227518  2020-12-01       badem                110          kuruyemiş   \n",
       "227519  2020-12-01       ceviz                120          kuruyemiş   \n",
       "\n",
       "        ürün fiyatı ürün üretim yeri market şehir  gün  \n",
       "0             33.41         Yurt içi      M     A    4  \n",
       "1             11.22         Yurt içi      M     A    4  \n",
       "2             11.12         Yurt içi      M     A    4  \n",
       "3              7.02         Yurt içi      M     A    4  \n",
       "4             13.14         Yurt içi      M     A    4  \n",
       "...             ...              ...    ...   ...  ...  \n",
       "227515        51.19        Yurt dışı      B     H    1  \n",
       "227516        55.14        Yurt dışı      B     H    1  \n",
       "227517        58.60        Yurt dışı      B     H    1  \n",
       "227518        51.83        Yurt dışı      B     H    1  \n",
       "227519        57.22        Yurt dışı      B     H    1  \n",
       "\n",
       "[227520 rows x 9 columns]"
      ]
     },
     "execution_count": 17,
     "metadata": {},
     "output_type": "execute_result"
    }
   ],
   "source": [
    "df5 = df3.copy()\n",
    "df6 = pd.DataFrame()\n",
    "for tarih in df5[\"tarih\"].unique():\n",
    "  temp = pd.Timestamp(tarih)\n",
    "  # print(temp.dayofweek)\n",
    "  # print(temp.day_name())\n",
    "  temp_df = df5.loc[df5[\"tarih\"] == tarih]\n",
    "  # temp_df[\"gün\"] = temp.day_name()\n",
    "  temp_df[\"gün\"] = temp.dayofweek\n",
    "  df6 = df6.append(temp_df)\n",
    "df6"
   ]
  },
  {
   "cell_type": "code",
   "execution_count": 18,
   "id": "2ca7e94c",
   "metadata": {
    "execution": {
     "iopub.execute_input": "2022-03-29T21:53:49.244755Z",
     "iopub.status.busy": "2022-03-29T21:53:49.243726Z",
     "iopub.status.idle": "2022-03-29T21:53:49.247979Z",
     "shell.execute_reply": "2022-03-29T21:53:49.248475Z",
     "shell.execute_reply.started": "2022-03-29T21:48:48.811432Z"
    },
    "papermill": {
     "duration": 0.084645,
     "end_time": "2022-03-29T21:53:49.248692",
     "exception": false,
     "start_time": "2022-03-29T21:53:49.164047",
     "status": "completed"
    },
    "tags": []
   },
   "outputs": [
    {
     "data": {
      "text/html": [
       "<div>\n",
       "<style scoped>\n",
       "    .dataframe tbody tr th:only-of-type {\n",
       "        vertical-align: middle;\n",
       "    }\n",
       "\n",
       "    .dataframe tbody tr th {\n",
       "        vertical-align: top;\n",
       "    }\n",
       "\n",
       "    .dataframe thead th {\n",
       "        text-align: right;\n",
       "    }\n",
       "</style>\n",
       "<table border=\"1\" class=\"dataframe\">\n",
       "  <thead>\n",
       "    <tr style=\"text-align: right;\">\n",
       "      <th></th>\n",
       "      <th>tarih</th>\n",
       "      <th>enflasyon</th>\n",
       "    </tr>\n",
       "  </thead>\n",
       "  <tbody>\n",
       "    <tr>\n",
       "      <th>0</th>\n",
       "      <td>01-2016</td>\n",
       "      <td>9.58</td>\n",
       "    </tr>\n",
       "    <tr>\n",
       "      <th>1</th>\n",
       "      <td>02-2016</td>\n",
       "      <td>8.78</td>\n",
       "    </tr>\n",
       "    <tr>\n",
       "      <th>2</th>\n",
       "      <td>03-2016</td>\n",
       "      <td>7.46</td>\n",
       "    </tr>\n",
       "    <tr>\n",
       "      <th>3</th>\n",
       "      <td>04-2016</td>\n",
       "      <td>6.57</td>\n",
       "    </tr>\n",
       "    <tr>\n",
       "      <th>4</th>\n",
       "      <td>05-2016</td>\n",
       "      <td>6.58</td>\n",
       "    </tr>\n",
       "    <tr>\n",
       "      <th>...</th>\n",
       "      <td>...</td>\n",
       "      <td>...</td>\n",
       "    </tr>\n",
       "    <tr>\n",
       "      <th>67</th>\n",
       "      <td>08-2021</td>\n",
       "      <td>19.25</td>\n",
       "    </tr>\n",
       "    <tr>\n",
       "      <th>68</th>\n",
       "      <td>09-2021</td>\n",
       "      <td>19.58</td>\n",
       "    </tr>\n",
       "    <tr>\n",
       "      <th>69</th>\n",
       "      <td>10-2021</td>\n",
       "      <td>19.89</td>\n",
       "    </tr>\n",
       "    <tr>\n",
       "      <th>70</th>\n",
       "      <td>11-2021</td>\n",
       "      <td>21.31</td>\n",
       "    </tr>\n",
       "    <tr>\n",
       "      <th>71</th>\n",
       "      <td>12-2021</td>\n",
       "      <td>36.08</td>\n",
       "    </tr>\n",
       "  </tbody>\n",
       "</table>\n",
       "<p>72 rows × 2 columns</p>\n",
       "</div>"
      ],
      "text/plain": [
       "      tarih  enflasyon\n",
       "0   01-2016       9.58\n",
       "1   02-2016       8.78\n",
       "2   03-2016       7.46\n",
       "3   04-2016       6.57\n",
       "4   05-2016       6.58\n",
       "..      ...        ...\n",
       "67  08-2021      19.25\n",
       "68  09-2021      19.58\n",
       "69  10-2021      19.89\n",
       "70  11-2021      21.31\n",
       "71  12-2021      36.08\n",
       "\n",
       "[72 rows x 2 columns]"
      ]
     },
     "execution_count": 18,
     "metadata": {},
     "output_type": "execute_result"
    }
   ],
   "source": [
    "df_enflasyon"
   ]
  },
  {
   "cell_type": "code",
   "execution_count": 19,
   "id": "825c12f8",
   "metadata": {
    "execution": {
     "iopub.execute_input": "2022-03-29T21:53:49.395318Z",
     "iopub.status.busy": "2022-03-29T21:53:49.394620Z",
     "iopub.status.idle": "2022-03-29T21:53:54.984227Z",
     "shell.execute_reply": "2022-03-29T21:53:54.983628Z",
     "shell.execute_reply.started": "2022-03-29T21:48:48.829123Z"
    },
    "papermill": {
     "duration": 5.667885,
     "end_time": "2022-03-29T21:53:54.984373",
     "exception": false,
     "start_time": "2022-03-29T21:53:49.316488",
     "status": "completed"
    },
    "tags": []
   },
   "outputs": [
    {
     "name": "stderr",
     "output_type": "stream",
     "text": [
      "/opt/conda/lib/python3.7/site-packages/ipykernel_launcher.py:11: SettingWithCopyWarning: \n",
      "A value is trying to be set on a copy of a slice from a DataFrame.\n",
      "Try using .loc[row_indexer,col_indexer] = value instead\n",
      "\n",
      "See the caveats in the documentation: https://pandas.pydata.org/pandas-docs/stable/user_guide/indexing.html#returning-a-view-versus-a-copy\n",
      "  # This is added back by InteractiveShellApp.init_path()\n"
     ]
    },
    {
     "data": {
      "text/html": [
       "<div>\n",
       "<style scoped>\n",
       "    .dataframe tbody tr th:only-of-type {\n",
       "        vertical-align: middle;\n",
       "    }\n",
       "\n",
       "    .dataframe tbody tr th {\n",
       "        vertical-align: top;\n",
       "    }\n",
       "\n",
       "    .dataframe thead th {\n",
       "        text-align: right;\n",
       "    }\n",
       "</style>\n",
       "<table border=\"1\" class=\"dataframe\">\n",
       "  <thead>\n",
       "    <tr style=\"text-align: right;\">\n",
       "      <th></th>\n",
       "      <th>tarih</th>\n",
       "      <th>ürün</th>\n",
       "      <th>ürün besin değeri</th>\n",
       "      <th>ürün kategorisi</th>\n",
       "      <th>ürün fiyatı</th>\n",
       "      <th>ürün üretim yeri</th>\n",
       "      <th>market</th>\n",
       "      <th>şehir</th>\n",
       "      <th>gün</th>\n",
       "      <th>enflasyon</th>\n",
       "    </tr>\n",
       "  </thead>\n",
       "  <tbody>\n",
       "    <tr>\n",
       "      <th>0</th>\n",
       "      <td>01-2016</td>\n",
       "      <td>kıyma</td>\n",
       "      <td>120</td>\n",
       "      <td>et</td>\n",
       "      <td>33.41</td>\n",
       "      <td>Yurt içi</td>\n",
       "      <td>M</td>\n",
       "      <td>A</td>\n",
       "      <td>4</td>\n",
       "      <td>9.58</td>\n",
       "    </tr>\n",
       "    <tr>\n",
       "      <th>1</th>\n",
       "      <td>01-2016</td>\n",
       "      <td>tavuk</td>\n",
       "      <td>103</td>\n",
       "      <td>et</td>\n",
       "      <td>11.22</td>\n",
       "      <td>Yurt içi</td>\n",
       "      <td>M</td>\n",
       "      <td>A</td>\n",
       "      <td>4</td>\n",
       "      <td>9.58</td>\n",
       "    </tr>\n",
       "    <tr>\n",
       "      <th>2</th>\n",
       "      <td>01-2016</td>\n",
       "      <td>hindi</td>\n",
       "      <td>160</td>\n",
       "      <td>et</td>\n",
       "      <td>11.12</td>\n",
       "      <td>Yurt içi</td>\n",
       "      <td>M</td>\n",
       "      <td>A</td>\n",
       "      <td>4</td>\n",
       "      <td>9.58</td>\n",
       "    </tr>\n",
       "    <tr>\n",
       "      <th>3</th>\n",
       "      <td>01-2016</td>\n",
       "      <td>Bakla-kuru</td>\n",
       "      <td>354</td>\n",
       "      <td>sebze ve bakliyat</td>\n",
       "      <td>7.02</td>\n",
       "      <td>Yurt içi</td>\n",
       "      <td>M</td>\n",
       "      <td>A</td>\n",
       "      <td>4</td>\n",
       "      <td>9.58</td>\n",
       "    </tr>\n",
       "    <tr>\n",
       "      <th>4</th>\n",
       "      <td>01-2016</td>\n",
       "      <td>Bakla-taze</td>\n",
       "      <td>72</td>\n",
       "      <td>sebze ve bakliyat</td>\n",
       "      <td>13.14</td>\n",
       "      <td>Yurt içi</td>\n",
       "      <td>M</td>\n",
       "      <td>A</td>\n",
       "      <td>4</td>\n",
       "      <td>9.58</td>\n",
       "    </tr>\n",
       "    <tr>\n",
       "      <th>...</th>\n",
       "      <td>...</td>\n",
       "      <td>...</td>\n",
       "      <td>...</td>\n",
       "      <td>...</td>\n",
       "      <td>...</td>\n",
       "      <td>...</td>\n",
       "      <td>...</td>\n",
       "      <td>...</td>\n",
       "      <td>...</td>\n",
       "      <td>...</td>\n",
       "    </tr>\n",
       "    <tr>\n",
       "      <th>227515</th>\n",
       "      <td>12-2020</td>\n",
       "      <td>fındık</td>\n",
       "      <td>110</td>\n",
       "      <td>kuruyemiş</td>\n",
       "      <td>51.19</td>\n",
       "      <td>Yurt dışı</td>\n",
       "      <td>B</td>\n",
       "      <td>H</td>\n",
       "      <td>1</td>\n",
       "      <td>14.60</td>\n",
       "    </tr>\n",
       "    <tr>\n",
       "      <th>227516</th>\n",
       "      <td>12-2020</td>\n",
       "      <td>fıstık</td>\n",
       "      <td>115</td>\n",
       "      <td>kuruyemiş</td>\n",
       "      <td>55.14</td>\n",
       "      <td>Yurt dışı</td>\n",
       "      <td>B</td>\n",
       "      <td>H</td>\n",
       "      <td>1</td>\n",
       "      <td>14.60</td>\n",
       "    </tr>\n",
       "    <tr>\n",
       "      <th>227517</th>\n",
       "      <td>12-2020</td>\n",
       "      <td>kaju</td>\n",
       "      <td>100</td>\n",
       "      <td>kuruyemiş</td>\n",
       "      <td>58.60</td>\n",
       "      <td>Yurt dışı</td>\n",
       "      <td>B</td>\n",
       "      <td>H</td>\n",
       "      <td>1</td>\n",
       "      <td>14.60</td>\n",
       "    </tr>\n",
       "    <tr>\n",
       "      <th>227518</th>\n",
       "      <td>12-2020</td>\n",
       "      <td>badem</td>\n",
       "      <td>110</td>\n",
       "      <td>kuruyemiş</td>\n",
       "      <td>51.83</td>\n",
       "      <td>Yurt dışı</td>\n",
       "      <td>B</td>\n",
       "      <td>H</td>\n",
       "      <td>1</td>\n",
       "      <td>14.60</td>\n",
       "    </tr>\n",
       "    <tr>\n",
       "      <th>227519</th>\n",
       "      <td>12-2020</td>\n",
       "      <td>ceviz</td>\n",
       "      <td>120</td>\n",
       "      <td>kuruyemiş</td>\n",
       "      <td>57.22</td>\n",
       "      <td>Yurt dışı</td>\n",
       "      <td>B</td>\n",
       "      <td>H</td>\n",
       "      <td>1</td>\n",
       "      <td>14.60</td>\n",
       "    </tr>\n",
       "  </tbody>\n",
       "</table>\n",
       "<p>227520 rows × 10 columns</p>\n",
       "</div>"
      ],
      "text/plain": [
       "          tarih        ürün  ürün besin değeri    ürün kategorisi  \\\n",
       "0       01-2016       kıyma                120                 et   \n",
       "1       01-2016       tavuk                103                 et   \n",
       "2       01-2016       hindi                160                 et   \n",
       "3       01-2016  Bakla-kuru                354  sebze ve bakliyat   \n",
       "4       01-2016  Bakla-taze                 72  sebze ve bakliyat   \n",
       "...         ...         ...                ...                ...   \n",
       "227515  12-2020      fındık                110          kuruyemiş   \n",
       "227516  12-2020      fıstık                115          kuruyemiş   \n",
       "227517  12-2020        kaju                100          kuruyemiş   \n",
       "227518  12-2020       badem                110          kuruyemiş   \n",
       "227519  12-2020       ceviz                120          kuruyemiş   \n",
       "\n",
       "        ürün fiyatı ürün üretim yeri market şehir  gün  enflasyon  \n",
       "0             33.41         Yurt içi      M     A    4       9.58  \n",
       "1             11.22         Yurt içi      M     A    4       9.58  \n",
       "2             11.12         Yurt içi      M     A    4       9.58  \n",
       "3              7.02         Yurt içi      M     A    4       9.58  \n",
       "4             13.14         Yurt içi      M     A    4       9.58  \n",
       "...             ...              ...    ...   ...  ...        ...  \n",
       "227515        51.19        Yurt dışı      B     H    1      14.60  \n",
       "227516        55.14        Yurt dışı      B     H    1      14.60  \n",
       "227517        58.60        Yurt dışı      B     H    1      14.60  \n",
       "227518        51.83        Yurt dışı      B     H    1      14.60  \n",
       "227519        57.22        Yurt dışı      B     H    1      14.60  \n",
       "\n",
       "[227520 rows x 10 columns]"
      ]
     },
     "execution_count": 19,
     "metadata": {},
     "output_type": "execute_result"
    }
   ],
   "source": [
    "random_df2 = pd.DataFrame()\n",
    "copy_df6 = df6.copy()\n",
    "copy_df6[\"enflasyon\"] = None\n",
    "copy_df6[\"tarih\"] = pd.to_datetime(copy_df6[\"tarih\"])\n",
    "copy_df6[\"tarih\"] = copy_df6[\"tarih\"].dt.strftime('%m-%Y')\n",
    "dates = df_enflasyon.tarih.values\n",
    "for date in dates:\n",
    "    result = df_enflasyon.loc[df_enflasyon[\"tarih\"] == date]\n",
    "    enflasyon = result.enflasyon.values[0]\n",
    "    temp_df = copy_df6.loc[copy_df6[\"tarih\"] == date]\n",
    "    temp_df[\"enflasyon\"] = enflasyon\n",
    "    random_df2 = random_df2.append(temp_df)\n",
    "random_df2"
   ]
  },
  {
   "cell_type": "code",
   "execution_count": 20,
   "id": "b1eca599",
   "metadata": {
    "execution": {
     "iopub.execute_input": "2022-03-29T21:53:55.126981Z",
     "iopub.status.busy": "2022-03-29T21:53:55.126219Z",
     "iopub.status.idle": "2022-03-29T21:53:55.290293Z",
     "shell.execute_reply": "2022-03-29T21:53:55.289712Z",
     "shell.execute_reply.started": "2022-03-29T21:48:54.256108Z"
    },
    "papermill": {
     "duration": 0.235084,
     "end_time": "2022-03-29T21:53:55.290578",
     "exception": false,
     "start_time": "2022-03-29T21:53:55.055494",
     "status": "completed"
    },
    "tags": []
   },
   "outputs": [],
   "source": [
    "from sklearn import preprocessing\n",
    "le = preprocessing.LabelEncoder()"
   ]
  },
  {
   "cell_type": "code",
   "execution_count": 21,
   "id": "51730f11",
   "metadata": {
    "execution": {
     "iopub.execute_input": "2022-03-29T21:53:55.443923Z",
     "iopub.status.busy": "2022-03-29T21:53:55.443066Z",
     "iopub.status.idle": "2022-03-29T21:53:55.448266Z",
     "shell.execute_reply": "2022-03-29T21:53:55.447655Z",
     "shell.execute_reply.started": "2022-03-29T21:48:54.262208Z"
    },
    "papermill": {
     "duration": 0.083612,
     "end_time": "2022-03-29T21:53:55.448423",
     "exception": false,
     "start_time": "2022-03-29T21:53:55.364811",
     "status": "completed"
    },
    "tags": []
   },
   "outputs": [
    {
     "data": {
      "text/plain": [
       "56"
      ]
     },
     "execution_count": 21,
     "metadata": {},
     "output_type": "execute_result"
    }
   ],
   "source": [
    "len(random_df2[\"ürün besin değeri\"].unique()) # aynı besin değerine sahip olan ürünler var. DİKKAT!"
   ]
  },
  {
   "cell_type": "code",
   "execution_count": 22,
   "id": "2272d9b7",
   "metadata": {
    "execution": {
     "iopub.execute_input": "2022-03-29T21:53:55.615522Z",
     "iopub.status.busy": "2022-03-29T21:53:55.614773Z",
     "iopub.status.idle": "2022-03-29T21:53:56.049187Z",
     "shell.execute_reply": "2022-03-29T21:53:56.048528Z",
     "shell.execute_reply.started": "2022-03-29T21:48:54.283741Z"
    },
    "papermill": {
     "duration": 0.527662,
     "end_time": "2022-03-29T21:53:56.049461",
     "exception": false,
     "start_time": "2022-03-29T21:53:55.521799",
     "status": "completed"
    },
    "tags": []
   },
   "outputs": [
    {
     "data": {
      "text/html": [
       "<div>\n",
       "<style scoped>\n",
       "    .dataframe tbody tr th:only-of-type {\n",
       "        vertical-align: middle;\n",
       "    }\n",
       "\n",
       "    .dataframe tbody tr th {\n",
       "        vertical-align: top;\n",
       "    }\n",
       "\n",
       "    .dataframe thead th {\n",
       "        text-align: right;\n",
       "    }\n",
       "</style>\n",
       "<table border=\"1\" class=\"dataframe\">\n",
       "  <thead>\n",
       "    <tr style=\"text-align: right;\">\n",
       "      <th></th>\n",
       "      <th>tarih</th>\n",
       "      <th>ürün</th>\n",
       "      <th>ürün besin değeri</th>\n",
       "      <th>ürün kategorisi</th>\n",
       "      <th>ürün fiyatı</th>\n",
       "      <th>ürün üretim yeri</th>\n",
       "      <th>market</th>\n",
       "      <th>şehir</th>\n",
       "      <th>gün</th>\n",
       "      <th>enflasyon</th>\n",
       "    </tr>\n",
       "  </thead>\n",
       "  <tbody>\n",
       "    <tr>\n",
       "      <th>0</th>\n",
       "      <td>0</td>\n",
       "      <td>65</td>\n",
       "      <td>120</td>\n",
       "      <td>0</td>\n",
       "      <td>33.41</td>\n",
       "      <td>1</td>\n",
       "      <td>2</td>\n",
       "      <td>0</td>\n",
       "      <td>4</td>\n",
       "      <td>9.58</td>\n",
       "    </tr>\n",
       "    <tr>\n",
       "      <th>1</th>\n",
       "      <td>0</td>\n",
       "      <td>70</td>\n",
       "      <td>103</td>\n",
       "      <td>0</td>\n",
       "      <td>11.22</td>\n",
       "      <td>1</td>\n",
       "      <td>2</td>\n",
       "      <td>0</td>\n",
       "      <td>4</td>\n",
       "      <td>9.58</td>\n",
       "    </tr>\n",
       "    <tr>\n",
       "      <th>2</th>\n",
       "      <td>0</td>\n",
       "      <td>61</td>\n",
       "      <td>160</td>\n",
       "      <td>0</td>\n",
       "      <td>11.12</td>\n",
       "      <td>1</td>\n",
       "      <td>2</td>\n",
       "      <td>0</td>\n",
       "      <td>4</td>\n",
       "      <td>9.58</td>\n",
       "    </tr>\n",
       "    <tr>\n",
       "      <th>3</th>\n",
       "      <td>0</td>\n",
       "      <td>1</td>\n",
       "      <td>354</td>\n",
       "      <td>3</td>\n",
       "      <td>7.02</td>\n",
       "      <td>1</td>\n",
       "      <td>2</td>\n",
       "      <td>0</td>\n",
       "      <td>4</td>\n",
       "      <td>9.58</td>\n",
       "    </tr>\n",
       "    <tr>\n",
       "      <th>4</th>\n",
       "      <td>0</td>\n",
       "      <td>2</td>\n",
       "      <td>72</td>\n",
       "      <td>3</td>\n",
       "      <td>13.14</td>\n",
       "      <td>1</td>\n",
       "      <td>2</td>\n",
       "      <td>0</td>\n",
       "      <td>4</td>\n",
       "      <td>9.58</td>\n",
       "    </tr>\n",
       "    <tr>\n",
       "      <th>...</th>\n",
       "      <td>...</td>\n",
       "      <td>...</td>\n",
       "      <td>...</td>\n",
       "      <td>...</td>\n",
       "      <td>...</td>\n",
       "      <td>...</td>\n",
       "      <td>...</td>\n",
       "      <td>...</td>\n",
       "      <td>...</td>\n",
       "      <td>...</td>\n",
       "    </tr>\n",
       "    <tr>\n",
       "      <th>227515</th>\n",
       "      <td>59</td>\n",
       "      <td>59</td>\n",
       "      <td>110</td>\n",
       "      <td>1</td>\n",
       "      <td>51.19</td>\n",
       "      <td>0</td>\n",
       "      <td>0</td>\n",
       "      <td>7</td>\n",
       "      <td>1</td>\n",
       "      <td>14.60</td>\n",
       "    </tr>\n",
       "    <tr>\n",
       "      <th>227516</th>\n",
       "      <td>59</td>\n",
       "      <td>60</td>\n",
       "      <td>115</td>\n",
       "      <td>1</td>\n",
       "      <td>55.14</td>\n",
       "      <td>0</td>\n",
       "      <td>0</td>\n",
       "      <td>7</td>\n",
       "      <td>1</td>\n",
       "      <td>14.60</td>\n",
       "    </tr>\n",
       "    <tr>\n",
       "      <th>227517</th>\n",
       "      <td>59</td>\n",
       "      <td>62</td>\n",
       "      <td>100</td>\n",
       "      <td>1</td>\n",
       "      <td>58.60</td>\n",
       "      <td>0</td>\n",
       "      <td>0</td>\n",
       "      <td>7</td>\n",
       "      <td>1</td>\n",
       "      <td>14.60</td>\n",
       "    </tr>\n",
       "    <tr>\n",
       "      <th>227518</th>\n",
       "      <td>59</td>\n",
       "      <td>55</td>\n",
       "      <td>110</td>\n",
       "      <td>1</td>\n",
       "      <td>51.83</td>\n",
       "      <td>0</td>\n",
       "      <td>0</td>\n",
       "      <td>7</td>\n",
       "      <td>1</td>\n",
       "      <td>14.60</td>\n",
       "    </tr>\n",
       "    <tr>\n",
       "      <th>227519</th>\n",
       "      <td>59</td>\n",
       "      <td>58</td>\n",
       "      <td>120</td>\n",
       "      <td>1</td>\n",
       "      <td>57.22</td>\n",
       "      <td>0</td>\n",
       "      <td>0</td>\n",
       "      <td>7</td>\n",
       "      <td>1</td>\n",
       "      <td>14.60</td>\n",
       "    </tr>\n",
       "  </tbody>\n",
       "</table>\n",
       "<p>227520 rows × 10 columns</p>\n",
       "</div>"
      ],
      "text/plain": [
       "        tarih  ürün  ürün besin değeri  ürün kategorisi  ürün fiyatı  \\\n",
       "0           0    65                120                0        33.41   \n",
       "1           0    70                103                0        11.22   \n",
       "2           0    61                160                0        11.12   \n",
       "3           0     1                354                3         7.02   \n",
       "4           0     2                 72                3        13.14   \n",
       "...       ...   ...                ...              ...          ...   \n",
       "227515     59    59                110                1        51.19   \n",
       "227516     59    60                115                1        55.14   \n",
       "227517     59    62                100                1        58.60   \n",
       "227518     59    55                110                1        51.83   \n",
       "227519     59    58                120                1        57.22   \n",
       "\n",
       "        ürün üretim yeri  market  şehir  gün  enflasyon  \n",
       "0                      1       2      0    4       9.58  \n",
       "1                      1       2      0    4       9.58  \n",
       "2                      1       2      0    4       9.58  \n",
       "3                      1       2      0    4       9.58  \n",
       "4                      1       2      0    4       9.58  \n",
       "...                  ...     ...    ...  ...        ...  \n",
       "227515                 0       0      7    1      14.60  \n",
       "227516                 0       0      7    1      14.60  \n",
       "227517                 0       0      7    1      14.60  \n",
       "227518                 0       0      7    1      14.60  \n",
       "227519                 0       0      7    1      14.60  \n",
       "\n",
       "[227520 rows x 10 columns]"
      ]
     },
     "execution_count": 22,
     "metadata": {},
     "output_type": "execute_result"
    }
   ],
   "source": [
    "random_df2[\"ürün\"] = le.fit_transform(df3[\"ürün\"])\n",
    "random_df2[\"ürün kategorisi\"] = le.fit_transform(df3[\"ürün kategorisi\"])\n",
    "random_df2[\"ürün üretim yeri\"] = le.fit_transform(df3[\"ürün üretim yeri\"])\n",
    "random_df2[\"market\"] = le.fit_transform(df3[\"market\"])\n",
    "random_df2[\"şehir\"] = le.fit_transform(df3[\"şehir\"])\n",
    "random_df2[\"tarih\"] = le.fit_transform(df3[\"tarih\"])\n",
    "\n",
    "\n",
    "random_df2"
   ]
  },
  {
   "cell_type": "code",
   "execution_count": 23,
   "id": "7bd06189",
   "metadata": {
    "execution": {
     "iopub.execute_input": "2022-03-29T21:53:56.198139Z",
     "iopub.status.busy": "2022-03-29T21:53:56.196882Z",
     "iopub.status.idle": "2022-03-29T21:53:57.698735Z",
     "shell.execute_reply": "2022-03-29T21:53:57.698040Z",
     "shell.execute_reply.started": "2022-03-29T21:48:54.725645Z"
    },
    "papermill": {
     "duration": 1.578677,
     "end_time": "2022-03-29T21:53:57.698967",
     "exception": false,
     "start_time": "2022-03-29T21:53:56.120290",
     "status": "completed"
    },
    "tags": []
   },
   "outputs": [
    {
     "name": "stderr",
     "output_type": "stream",
     "text": [
      "/opt/conda/lib/python3.7/site-packages/ipykernel_launcher.py:9: SettingWithCopyWarning: \n",
      "A value is trying to be set on a copy of a slice from a DataFrame.\n",
      "Try using .loc[row_indexer,col_indexer] = value instead\n",
      "\n",
      "See the caveats in the documentation: https://pandas.pydata.org/pandas-docs/stable/user_guide/indexing.html#returning-a-view-versus-a-copy\n",
      "  if __name__ == '__main__':\n",
      "/opt/conda/lib/python3.7/site-packages/ipykernel_launcher.py:21: SettingWithCopyWarning: \n",
      "A value is trying to be set on a copy of a slice from a DataFrame.\n",
      "Try using .loc[row_indexer,col_indexer] = value instead\n",
      "\n",
      "See the caveats in the documentation: https://pandas.pydata.org/pandas-docs/stable/user_guide/indexing.html#returning-a-view-versus-a-copy\n"
     ]
    },
    {
     "data": {
      "text/html": [
       "<div>\n",
       "<style scoped>\n",
       "    .dataframe tbody tr th:only-of-type {\n",
       "        vertical-align: middle;\n",
       "    }\n",
       "\n",
       "    .dataframe tbody tr th {\n",
       "        vertical-align: top;\n",
       "    }\n",
       "\n",
       "    .dataframe thead th {\n",
       "        text-align: right;\n",
       "    }\n",
       "</style>\n",
       "<table border=\"1\" class=\"dataframe\">\n",
       "  <thead>\n",
       "    <tr style=\"text-align: right;\">\n",
       "      <th></th>\n",
       "      <th>tarih</th>\n",
       "      <th>ürün</th>\n",
       "      <th>ürün besin değeri</th>\n",
       "      <th>ürün kategorisi</th>\n",
       "      <th>ürün üretim yeri</th>\n",
       "      <th>market</th>\n",
       "      <th>şehir</th>\n",
       "      <th>gün</th>\n",
       "      <th>enflasyon</th>\n",
       "    </tr>\n",
       "  </thead>\n",
       "  <tbody>\n",
       "    <tr>\n",
       "      <th>0</th>\n",
       "      <td>61</td>\n",
       "      <td>kıyma</td>\n",
       "      <td>120</td>\n",
       "      <td>et</td>\n",
       "      <td>Yurt içi</td>\n",
       "      <td>M</td>\n",
       "      <td>A</td>\n",
       "      <td>4</td>\n",
       "      <td>14.97</td>\n",
       "    </tr>\n",
       "    <tr>\n",
       "      <th>1</th>\n",
       "      <td>61</td>\n",
       "      <td>tavuk</td>\n",
       "      <td>103</td>\n",
       "      <td>et</td>\n",
       "      <td>Yurt içi</td>\n",
       "      <td>M</td>\n",
       "      <td>A</td>\n",
       "      <td>4</td>\n",
       "      <td>14.97</td>\n",
       "    </tr>\n",
       "    <tr>\n",
       "      <th>2</th>\n",
       "      <td>61</td>\n",
       "      <td>hindi</td>\n",
       "      <td>160</td>\n",
       "      <td>et</td>\n",
       "      <td>Yurt içi</td>\n",
       "      <td>M</td>\n",
       "      <td>A</td>\n",
       "      <td>4</td>\n",
       "      <td>14.97</td>\n",
       "    </tr>\n",
       "    <tr>\n",
       "      <th>3</th>\n",
       "      <td>61</td>\n",
       "      <td>Bakla-kuru</td>\n",
       "      <td>354</td>\n",
       "      <td>sebze ve bakliyat</td>\n",
       "      <td>Yurt içi</td>\n",
       "      <td>M</td>\n",
       "      <td>A</td>\n",
       "      <td>4</td>\n",
       "      <td>14.97</td>\n",
       "    </tr>\n",
       "    <tr>\n",
       "      <th>4</th>\n",
       "      <td>61</td>\n",
       "      <td>Bakla-taze</td>\n",
       "      <td>72</td>\n",
       "      <td>sebze ve bakliyat</td>\n",
       "      <td>Yurt içi</td>\n",
       "      <td>M</td>\n",
       "      <td>A</td>\n",
       "      <td>4</td>\n",
       "      <td>14.97</td>\n",
       "    </tr>\n",
       "    <tr>\n",
       "      <th>...</th>\n",
       "      <td>...</td>\n",
       "      <td>...</td>\n",
       "      <td>...</td>\n",
       "      <td>...</td>\n",
       "      <td>...</td>\n",
       "      <td>...</td>\n",
       "      <td>...</td>\n",
       "      <td>...</td>\n",
       "      <td>...</td>\n",
       "    </tr>\n",
       "    <tr>\n",
       "      <th>45499</th>\n",
       "      <td>71</td>\n",
       "      <td>fındık</td>\n",
       "      <td>110</td>\n",
       "      <td>kuruyemiş</td>\n",
       "      <td>Yurt dışı</td>\n",
       "      <td>B</td>\n",
       "      <td>H</td>\n",
       "      <td>2</td>\n",
       "      <td>36.08</td>\n",
       "    </tr>\n",
       "    <tr>\n",
       "      <th>45500</th>\n",
       "      <td>71</td>\n",
       "      <td>fıstık</td>\n",
       "      <td>115</td>\n",
       "      <td>kuruyemiş</td>\n",
       "      <td>Yurt dışı</td>\n",
       "      <td>B</td>\n",
       "      <td>H</td>\n",
       "      <td>2</td>\n",
       "      <td>36.08</td>\n",
       "    </tr>\n",
       "    <tr>\n",
       "      <th>45501</th>\n",
       "      <td>71</td>\n",
       "      <td>kaju</td>\n",
       "      <td>100</td>\n",
       "      <td>kuruyemiş</td>\n",
       "      <td>Yurt dışı</td>\n",
       "      <td>B</td>\n",
       "      <td>H</td>\n",
       "      <td>2</td>\n",
       "      <td>36.08</td>\n",
       "    </tr>\n",
       "    <tr>\n",
       "      <th>45502</th>\n",
       "      <td>71</td>\n",
       "      <td>badem</td>\n",
       "      <td>110</td>\n",
       "      <td>kuruyemiş</td>\n",
       "      <td>Yurt dışı</td>\n",
       "      <td>B</td>\n",
       "      <td>H</td>\n",
       "      <td>2</td>\n",
       "      <td>36.08</td>\n",
       "    </tr>\n",
       "    <tr>\n",
       "      <th>45503</th>\n",
       "      <td>71</td>\n",
       "      <td>ceviz</td>\n",
       "      <td>120</td>\n",
       "      <td>kuruyemiş</td>\n",
       "      <td>Yurt dışı</td>\n",
       "      <td>B</td>\n",
       "      <td>H</td>\n",
       "      <td>2</td>\n",
       "      <td>36.08</td>\n",
       "    </tr>\n",
       "  </tbody>\n",
       "</table>\n",
       "<p>45504 rows × 9 columns</p>\n",
       "</div>"
      ],
      "text/plain": [
       "       tarih        ürün  ürün besin değeri    ürün kategorisi  \\\n",
       "0         61       kıyma                120                 et   \n",
       "1         61       tavuk                103                 et   \n",
       "2         61       hindi                160                 et   \n",
       "3         61  Bakla-kuru                354  sebze ve bakliyat   \n",
       "4         61  Bakla-taze                 72  sebze ve bakliyat   \n",
       "...      ...         ...                ...                ...   \n",
       "45499     71      fındık                110          kuruyemiş   \n",
       "45500     71      fıstık                115          kuruyemiş   \n",
       "45501     71        kaju                100          kuruyemiş   \n",
       "45502     71       badem                110          kuruyemiş   \n",
       "45503     71       ceviz                120          kuruyemiş   \n",
       "\n",
       "      ürün üretim yeri market şehir  gün  enflasyon  \n",
       "0             Yurt içi      M     A    4      14.97  \n",
       "1             Yurt içi      M     A    4      14.97  \n",
       "2             Yurt içi      M     A    4      14.97  \n",
       "3             Yurt içi      M     A    4      14.97  \n",
       "4             Yurt içi      M     A    4      14.97  \n",
       "...                ...    ...   ...  ...        ...  \n",
       "45499        Yurt dışı      B     H    2      36.08  \n",
       "45500        Yurt dışı      B     H    2      36.08  \n",
       "45501        Yurt dışı      B     H    2      36.08  \n",
       "45502        Yurt dışı      B     H    2      36.08  \n",
       "45503        Yurt dışı      B     H    2      36.08  \n",
       "\n",
       "[45504 rows x 9 columns]"
      ]
     },
     "execution_count": 23,
     "metadata": {},
     "output_type": "execute_result"
    }
   ],
   "source": [
    "df2_test = df2.copy()\n",
    "del df2_test[\"id\"]\n",
    "test_df = pd.DataFrame()\n",
    "for tarih in df2_test[\"tarih\"].unique():\n",
    "    temp = pd.Timestamp(tarih)\n",
    "  # print(temp.dayofweek)\n",
    "  # print(temp.day_name())\n",
    "    temp_df = df2_test.loc[df2_test[\"tarih\"] == tarih]\n",
    "    temp_df[\"gün\"] = temp.dayofweek\n",
    "    test_df = test_df.append(temp_df)\n",
    "random_df3 = pd.DataFrame()\n",
    "test_df2 = test_df.copy()\n",
    "test_df2[\"enflasyon\"] = None\n",
    "test_df2[\"tarih\"] = pd.to_datetime(test_df2[\"tarih\"])\n",
    "test_df2[\"tarih\"] = test_df2[\"tarih\"].dt.strftime('%m-%Y')\n",
    "dates = df_enflasyon.tarih.values\n",
    "for date in dates:\n",
    "    result = df_enflasyon.loc[df_enflasyon[\"tarih\"] == date]\n",
    "    enflasyon = result.enflasyon.values[0]\n",
    "    temp_df = test_df2.loc[test_df2[\"tarih\"] == date]\n",
    "    temp_df[\"enflasyon\"] = enflasyon\n",
    "    random_df3 = random_df3.append(temp_df)\n",
    "random_df3\n",
    "random_df3[\"tarih\"] = random_df3[\"tarih\"].replace(\"01-2021\",61)\n",
    "random_df3[\"tarih\"] = random_df3[\"tarih\"].replace(\"02-2021\",61)\n",
    "random_df3[\"tarih\"] = random_df3[\"tarih\"].replace(\"03-2021\",62)\n",
    "random_df3[\"tarih\"] = random_df3[\"tarih\"].replace(\"04-2021\",63)\n",
    "random_df3[\"tarih\"] = random_df3[\"tarih\"].replace(\"05-2021\",64)\n",
    "random_df3[\"tarih\"] = random_df3[\"tarih\"].replace(\"06-2021\",65)\n",
    "random_df3[\"tarih\"] = random_df3[\"tarih\"].replace(\"07-2021\",66)\n",
    "random_df3[\"tarih\"] = random_df3[\"tarih\"].replace(\"08-2021\",67)\n",
    "random_df3[\"tarih\"] = random_df3[\"tarih\"].replace(\"09-2021\",68)\n",
    "random_df3[\"tarih\"] = random_df3[\"tarih\"].replace(\"10-2021\",69)\n",
    "random_df3[\"tarih\"] = random_df3[\"tarih\"].replace(\"11-2021\",70)\n",
    "random_df3[\"tarih\"] = random_df3[\"tarih\"].replace(\"12-2021\",71)\n",
    "\n",
    "random_df3\n",
    "\n"
   ]
  },
  {
   "cell_type": "code",
   "execution_count": 24,
   "id": "66da318d",
   "metadata": {
    "execution": {
     "iopub.execute_input": "2022-03-29T21:53:57.842819Z",
     "iopub.status.busy": "2022-03-29T21:53:57.842096Z",
     "iopub.status.idle": "2022-03-29T21:53:57.931806Z",
     "shell.execute_reply": "2022-03-29T21:53:57.932284Z",
     "shell.execute_reply.started": "2022-03-29T21:48:56.175170Z"
    },
    "papermill": {
     "duration": 0.164611,
     "end_time": "2022-03-29T21:53:57.932468",
     "exception": false,
     "start_time": "2022-03-29T21:53:57.767857",
     "status": "completed"
    },
    "tags": []
   },
   "outputs": [
    {
     "data": {
      "text/html": [
       "<div>\n",
       "<style scoped>\n",
       "    .dataframe tbody tr th:only-of-type {\n",
       "        vertical-align: middle;\n",
       "    }\n",
       "\n",
       "    .dataframe tbody tr th {\n",
       "        vertical-align: top;\n",
       "    }\n",
       "\n",
       "    .dataframe thead th {\n",
       "        text-align: right;\n",
       "    }\n",
       "</style>\n",
       "<table border=\"1\" class=\"dataframe\">\n",
       "  <thead>\n",
       "    <tr style=\"text-align: right;\">\n",
       "      <th></th>\n",
       "      <th>tarih</th>\n",
       "      <th>ürün</th>\n",
       "      <th>ürün besin değeri</th>\n",
       "      <th>ürün kategorisi</th>\n",
       "      <th>ürün üretim yeri</th>\n",
       "      <th>market</th>\n",
       "      <th>şehir</th>\n",
       "      <th>gün</th>\n",
       "      <th>enflasyon</th>\n",
       "    </tr>\n",
       "  </thead>\n",
       "  <tbody>\n",
       "    <tr>\n",
       "      <th>0</th>\n",
       "      <td>61</td>\n",
       "      <td>65</td>\n",
       "      <td>120</td>\n",
       "      <td>0</td>\n",
       "      <td>1</td>\n",
       "      <td>2</td>\n",
       "      <td>0</td>\n",
       "      <td>4</td>\n",
       "      <td>14.97</td>\n",
       "    </tr>\n",
       "    <tr>\n",
       "      <th>1</th>\n",
       "      <td>61</td>\n",
       "      <td>70</td>\n",
       "      <td>103</td>\n",
       "      <td>0</td>\n",
       "      <td>1</td>\n",
       "      <td>2</td>\n",
       "      <td>0</td>\n",
       "      <td>4</td>\n",
       "      <td>14.97</td>\n",
       "    </tr>\n",
       "    <tr>\n",
       "      <th>2</th>\n",
       "      <td>61</td>\n",
       "      <td>61</td>\n",
       "      <td>160</td>\n",
       "      <td>0</td>\n",
       "      <td>1</td>\n",
       "      <td>2</td>\n",
       "      <td>0</td>\n",
       "      <td>4</td>\n",
       "      <td>14.97</td>\n",
       "    </tr>\n",
       "    <tr>\n",
       "      <th>3</th>\n",
       "      <td>61</td>\n",
       "      <td>1</td>\n",
       "      <td>354</td>\n",
       "      <td>3</td>\n",
       "      <td>1</td>\n",
       "      <td>2</td>\n",
       "      <td>0</td>\n",
       "      <td>4</td>\n",
       "      <td>14.97</td>\n",
       "    </tr>\n",
       "    <tr>\n",
       "      <th>4</th>\n",
       "      <td>61</td>\n",
       "      <td>2</td>\n",
       "      <td>72</td>\n",
       "      <td>3</td>\n",
       "      <td>1</td>\n",
       "      <td>2</td>\n",
       "      <td>0</td>\n",
       "      <td>4</td>\n",
       "      <td>14.97</td>\n",
       "    </tr>\n",
       "    <tr>\n",
       "      <th>...</th>\n",
       "      <td>...</td>\n",
       "      <td>...</td>\n",
       "      <td>...</td>\n",
       "      <td>...</td>\n",
       "      <td>...</td>\n",
       "      <td>...</td>\n",
       "      <td>...</td>\n",
       "      <td>...</td>\n",
       "      <td>...</td>\n",
       "    </tr>\n",
       "    <tr>\n",
       "      <th>45499</th>\n",
       "      <td>71</td>\n",
       "      <td>59</td>\n",
       "      <td>110</td>\n",
       "      <td>1</td>\n",
       "      <td>0</td>\n",
       "      <td>0</td>\n",
       "      <td>7</td>\n",
       "      <td>2</td>\n",
       "      <td>36.08</td>\n",
       "    </tr>\n",
       "    <tr>\n",
       "      <th>45500</th>\n",
       "      <td>71</td>\n",
       "      <td>60</td>\n",
       "      <td>115</td>\n",
       "      <td>1</td>\n",
       "      <td>0</td>\n",
       "      <td>0</td>\n",
       "      <td>7</td>\n",
       "      <td>2</td>\n",
       "      <td>36.08</td>\n",
       "    </tr>\n",
       "    <tr>\n",
       "      <th>45501</th>\n",
       "      <td>71</td>\n",
       "      <td>62</td>\n",
       "      <td>100</td>\n",
       "      <td>1</td>\n",
       "      <td>0</td>\n",
       "      <td>0</td>\n",
       "      <td>7</td>\n",
       "      <td>2</td>\n",
       "      <td>36.08</td>\n",
       "    </tr>\n",
       "    <tr>\n",
       "      <th>45502</th>\n",
       "      <td>71</td>\n",
       "      <td>55</td>\n",
       "      <td>110</td>\n",
       "      <td>1</td>\n",
       "      <td>0</td>\n",
       "      <td>0</td>\n",
       "      <td>7</td>\n",
       "      <td>2</td>\n",
       "      <td>36.08</td>\n",
       "    </tr>\n",
       "    <tr>\n",
       "      <th>45503</th>\n",
       "      <td>71</td>\n",
       "      <td>58</td>\n",
       "      <td>120</td>\n",
       "      <td>1</td>\n",
       "      <td>0</td>\n",
       "      <td>0</td>\n",
       "      <td>7</td>\n",
       "      <td>2</td>\n",
       "      <td>36.08</td>\n",
       "    </tr>\n",
       "  </tbody>\n",
       "</table>\n",
       "<p>45504 rows × 9 columns</p>\n",
       "</div>"
      ],
      "text/plain": [
       "       tarih  ürün  ürün besin değeri  ürün kategorisi  ürün üretim yeri  \\\n",
       "0         61    65                120                0                 1   \n",
       "1         61    70                103                0                 1   \n",
       "2         61    61                160                0                 1   \n",
       "3         61     1                354                3                 1   \n",
       "4         61     2                 72                3                 1   \n",
       "...      ...   ...                ...              ...               ...   \n",
       "45499     71    59                110                1                 0   \n",
       "45500     71    60                115                1                 0   \n",
       "45501     71    62                100                1                 0   \n",
       "45502     71    55                110                1                 0   \n",
       "45503     71    58                120                1                 0   \n",
       "\n",
       "       market  şehir  gün  enflasyon  \n",
       "0           2      0    4      14.97  \n",
       "1           2      0    4      14.97  \n",
       "2           2      0    4      14.97  \n",
       "3           2      0    4      14.97  \n",
       "4           2      0    4      14.97  \n",
       "...       ...    ...  ...        ...  \n",
       "45499       0      7    2      36.08  \n",
       "45500       0      7    2      36.08  \n",
       "45501       0      7    2      36.08  \n",
       "45502       0      7    2      36.08  \n",
       "45503       0      7    2      36.08  \n",
       "\n",
       "[45504 rows x 9 columns]"
      ]
     },
     "execution_count": 24,
     "metadata": {},
     "output_type": "execute_result"
    }
   ],
   "source": [
    "test2_df = random_df3.copy()\n",
    "test2_df[\"ürün\"] = le.fit_transform(test_df[\"ürün\"])\n",
    "test2_df[\"ürün kategorisi\"] = le.fit_transform(test_df[\"ürün kategorisi\"])\n",
    "test2_df[\"ürün üretim yeri\"] = le.fit_transform(test_df[\"ürün üretim yeri\"])\n",
    "test2_df[\"market\"] = le.fit_transform(test_df[\"market\"])\n",
    "test2_df[\"şehir\"] = le.fit_transform(test_df[\"şehir\"])\n",
    "# test2_df[\"tarih\"] = le.fit_transform(test_df[\"tarih\"])\n",
    "test2_df"
   ]
  },
  {
   "cell_type": "code",
   "execution_count": null,
   "id": "232f002b",
   "metadata": {
    "papermill": {
     "duration": 0.068918,
     "end_time": "2022-03-29T21:53:58.071429",
     "exception": false,
     "start_time": "2022-03-29T21:53:58.002511",
     "status": "completed"
    },
    "tags": []
   },
   "outputs": [],
   "source": []
  },
  {
   "cell_type": "code",
   "execution_count": 25,
   "id": "3b235b90",
   "metadata": {
    "execution": {
     "iopub.execute_input": "2022-03-29T21:53:58.213847Z",
     "iopub.status.busy": "2022-03-29T21:53:58.213096Z",
     "iopub.status.idle": "2022-03-29T21:53:58.344381Z",
     "shell.execute_reply": "2022-03-29T21:53:58.344917Z",
     "shell.execute_reply.started": "2022-03-29T21:48:56.277278Z"
    },
    "papermill": {
     "duration": 0.204406,
     "end_time": "2022-03-29T21:53:58.345088",
     "exception": false,
     "start_time": "2022-03-29T21:53:58.140682",
     "status": "completed"
    },
    "tags": []
   },
   "outputs": [
    {
     "data": {
      "text/html": [
       "<div>\n",
       "<style scoped>\n",
       "    .dataframe tbody tr th:only-of-type {\n",
       "        vertical-align: middle;\n",
       "    }\n",
       "\n",
       "    .dataframe tbody tr th {\n",
       "        vertical-align: top;\n",
       "    }\n",
       "\n",
       "    .dataframe thead th {\n",
       "        text-align: right;\n",
       "    }\n",
       "</style>\n",
       "<table border=\"1\" class=\"dataframe\">\n",
       "  <thead>\n",
       "    <tr style=\"text-align: right;\">\n",
       "      <th></th>\n",
       "      <th>tarih</th>\n",
       "      <th>ürün</th>\n",
       "      <th>ürün besin değeri</th>\n",
       "      <th>ürün kategorisi</th>\n",
       "      <th>ürün üretim yeri</th>\n",
       "      <th>şehir</th>\n",
       "      <th>gün</th>\n",
       "      <th>market</th>\n",
       "      <th>enflasyon</th>\n",
       "    </tr>\n",
       "  </thead>\n",
       "  <tbody>\n",
       "    <tr>\n",
       "      <th>8123</th>\n",
       "      <td>2</td>\n",
       "      <td>27</td>\n",
       "      <td>79</td>\n",
       "      <td>2</td>\n",
       "      <td>1</td>\n",
       "      <td>1</td>\n",
       "      <td>1</td>\n",
       "      <td>2</td>\n",
       "      <td>7.46</td>\n",
       "    </tr>\n",
       "    <tr>\n",
       "      <th>155922</th>\n",
       "      <td>41</td>\n",
       "      <td>71</td>\n",
       "      <td>375</td>\n",
       "      <td>4</td>\n",
       "      <td>0</td>\n",
       "      <td>0</td>\n",
       "      <td>5</td>\n",
       "      <td>0</td>\n",
       "      <td>15.72</td>\n",
       "    </tr>\n",
       "    <tr>\n",
       "      <th>13696</th>\n",
       "      <td>3</td>\n",
       "      <td>45</td>\n",
       "      <td>27</td>\n",
       "      <td>3</td>\n",
       "      <td>0</td>\n",
       "      <td>4</td>\n",
       "      <td>4</td>\n",
       "      <td>0</td>\n",
       "      <td>6.57</td>\n",
       "    </tr>\n",
       "    <tr>\n",
       "      <th>134059</th>\n",
       "      <td>35</td>\n",
       "      <td>60</td>\n",
       "      <td>115</td>\n",
       "      <td>1</td>\n",
       "      <td>1</td>\n",
       "      <td>2</td>\n",
       "      <td>5</td>\n",
       "      <td>0</td>\n",
       "      <td>20.30</td>\n",
       "    </tr>\n",
       "    <tr>\n",
       "      <th>165239</th>\n",
       "      <td>43</td>\n",
       "      <td>66</td>\n",
       "      <td>125</td>\n",
       "      <td>4</td>\n",
       "      <td>0</td>\n",
       "      <td>4</td>\n",
       "      <td>3</td>\n",
       "      <td>1</td>\n",
       "      <td>15.01</td>\n",
       "    </tr>\n",
       "    <tr>\n",
       "      <th>...</th>\n",
       "      <td>...</td>\n",
       "      <td>...</td>\n",
       "      <td>...</td>\n",
       "      <td>...</td>\n",
       "      <td>...</td>\n",
       "      <td>...</td>\n",
       "      <td>...</td>\n",
       "      <td>...</td>\n",
       "      <td>...</td>\n",
       "    </tr>\n",
       "    <tr>\n",
       "      <th>47937</th>\n",
       "      <td>12</td>\n",
       "      <td>23</td>\n",
       "      <td>28</td>\n",
       "      <td>2</td>\n",
       "      <td>1</td>\n",
       "      <td>5</td>\n",
       "      <td>6</td>\n",
       "      <td>2</td>\n",
       "      <td>9.22</td>\n",
       "    </tr>\n",
       "    <tr>\n",
       "      <th>59801</th>\n",
       "      <td>15</td>\n",
       "      <td>55</td>\n",
       "      <td>110</td>\n",
       "      <td>1</td>\n",
       "      <td>1</td>\n",
       "      <td>6</td>\n",
       "      <td>5</td>\n",
       "      <td>2</td>\n",
       "      <td>11.87</td>\n",
       "    </tr>\n",
       "    <tr>\n",
       "      <th>45722</th>\n",
       "      <td>12</td>\n",
       "      <td>76</td>\n",
       "      <td>80</td>\n",
       "      <td>2</td>\n",
       "      <td>1</td>\n",
       "      <td>0</td>\n",
       "      <td>6</td>\n",
       "      <td>1</td>\n",
       "      <td>9.22</td>\n",
       "    </tr>\n",
       "    <tr>\n",
       "      <th>216964</th>\n",
       "      <td>57</td>\n",
       "      <td>49</td>\n",
       "      <td>52</td>\n",
       "      <td>3</td>\n",
       "      <td>1</td>\n",
       "      <td>1</td>\n",
       "      <td>3</td>\n",
       "      <td>0</td>\n",
       "      <td>11.89</td>\n",
       "    </tr>\n",
       "    <tr>\n",
       "      <th>86410</th>\n",
       "      <td>22</td>\n",
       "      <td>23</td>\n",
       "      <td>28</td>\n",
       "      <td>2</td>\n",
       "      <td>0</td>\n",
       "      <td>6</td>\n",
       "      <td>2</td>\n",
       "      <td>2</td>\n",
       "      <td>12.98</td>\n",
       "    </tr>\n",
       "  </tbody>\n",
       "</table>\n",
       "<p>182016 rows × 9 columns</p>\n",
       "</div>"
      ],
      "text/plain": [
       "        tarih  ürün  ürün besin değeri  ürün kategorisi  ürün üretim yeri  \\\n",
       "8123        2    27                 79                2                 1   \n",
       "155922     41    71                375                4                 0   \n",
       "13696       3    45                 27                3                 0   \n",
       "134059     35    60                115                1                 1   \n",
       "165239     43    66                125                4                 0   \n",
       "...       ...   ...                ...              ...               ...   \n",
       "47937      12    23                 28                2                 1   \n",
       "59801      15    55                110                1                 1   \n",
       "45722      12    76                 80                2                 1   \n",
       "216964     57    49                 52                3                 1   \n",
       "86410      22    23                 28                2                 0   \n",
       "\n",
       "        şehir  gün  market  enflasyon  \n",
       "8123        1    1       2       7.46  \n",
       "155922      0    5       0      15.72  \n",
       "13696       4    4       0       6.57  \n",
       "134059      2    5       0      20.30  \n",
       "165239      4    3       1      15.01  \n",
       "...       ...  ...     ...        ...  \n",
       "47937       5    6       2       9.22  \n",
       "59801       6    5       2      11.87  \n",
       "45722       0    6       1       9.22  \n",
       "216964      1    3       0      11.89  \n",
       "86410       6    2       2      12.98  \n",
       "\n",
       "[182016 rows x 9 columns]"
      ]
     },
     "execution_count": 25,
     "metadata": {},
     "output_type": "execute_result"
    }
   ],
   "source": [
    "x = random_df2[[\"tarih\",\"ürün\",\"ürün besin değeri\",\"ürün kategorisi\",\"ürün üretim yeri\",\"şehir\",\"gün\",\"market\",\"enflasyon\"]]\n",
    "y = random_df2[\"ürün fiyatı\"]\n",
    "from sklearn.model_selection import train_test_split\n",
    "x_train, x_test, y_train, y_test = train_test_split(x, y, test_size=0.2) #random_state değiştirilebilir.\n",
    "x_train"
   ]
  },
  {
   "cell_type": "code",
   "execution_count": 26,
   "id": "b68f8a61",
   "metadata": {
    "execution": {
     "iopub.execute_input": "2022-03-29T21:53:58.490288Z",
     "iopub.status.busy": "2022-03-29T21:53:58.489462Z",
     "iopub.status.idle": "2022-03-29T21:53:58.583225Z",
     "shell.execute_reply": "2022-03-29T21:53:58.582458Z",
     "shell.execute_reply.started": "2022-03-29T21:48:56.367441Z"
    },
    "papermill": {
     "duration": 0.168394,
     "end_time": "2022-03-29T21:53:58.583389",
     "exception": false,
     "start_time": "2022-03-29T21:53:58.414995",
     "status": "completed"
    },
    "tags": []
   },
   "outputs": [],
   "source": [
    "from xgboost import XGBRegressor\n",
    "from sklearn.model_selection import train_test_split, GridSearchCV, cross_val_score\n",
    "from sklearn.metrics import mean_squared_error, r2_score\n",
    "from sklearn import model_selection"
   ]
  },
  {
   "cell_type": "code",
   "execution_count": 27,
   "id": "93363e78",
   "metadata": {
    "execution": {
     "iopub.execute_input": "2022-03-29T21:53:58.730481Z",
     "iopub.status.busy": "2022-03-29T21:53:58.729825Z",
     "iopub.status.idle": "2022-03-29T21:53:58.731942Z",
     "shell.execute_reply": "2022-03-29T21:53:58.731312Z",
     "shell.execute_reply.started": "2022-03-29T21:48:56.375866Z"
    },
    "papermill": {
     "duration": 0.077201,
     "end_time": "2022-03-29T21:53:58.732084",
     "exception": false,
     "start_time": "2022-03-29T21:53:58.654883",
     "status": "completed"
    },
    "tags": []
   },
   "outputs": [],
   "source": [
    "#GridSearchCV"
   ]
  },
  {
   "cell_type": "code",
   "execution_count": 28,
   "id": "3c4f2022",
   "metadata": {
    "execution": {
     "iopub.execute_input": "2022-03-29T21:53:58.882941Z",
     "iopub.status.busy": "2022-03-29T21:53:58.881586Z",
     "iopub.status.idle": "2022-03-29T21:53:58.886124Z",
     "shell.execute_reply": "2022-03-29T21:53:58.885572Z",
     "shell.execute_reply.started": "2022-03-29T21:48:56.388908Z"
    },
    "papermill": {
     "duration": 0.081013,
     "end_time": "2022-03-29T21:53:58.886270",
     "exception": false,
     "start_time": "2022-03-29T21:53:58.805257",
     "status": "completed"
    },
    "tags": []
   },
   "outputs": [],
   "source": [
    "# xgb = XGBRegressor()"
   ]
  },
  {
   "cell_type": "code",
   "execution_count": 29,
   "id": "ee6e0910",
   "metadata": {
    "execution": {
     "iopub.execute_input": "2022-03-29T21:53:59.032066Z",
     "iopub.status.busy": "2022-03-29T21:53:59.031319Z",
     "iopub.status.idle": "2022-03-29T21:53:59.035836Z",
     "shell.execute_reply": "2022-03-29T21:53:59.036295Z",
     "shell.execute_reply.started": "2022-03-29T21:48:56.401258Z"
    },
    "papermill": {
     "duration": 0.079331,
     "end_time": "2022-03-29T21:53:59.036473",
     "exception": false,
     "start_time": "2022-03-29T21:53:58.957142",
     "status": "completed"
    },
    "tags": []
   },
   "outputs": [],
   "source": [
    "# xgb = XGBRegressor(learning_rate = 0.2,max_depth = 2,n_estimators = 2500,n_jobs = 3, objective = \"reg:squarederror\")\n",
    "# xgb = XGBRegressor()\n",
    "xgb = XGBRegressor(learning_rate = 0.05,max_depth = 3,n_estimators = 2000,n_jobs = 3, objective = \"reg:squarederror\",eval_metric = \"rmse\")"
   ]
  },
  {
   "cell_type": "code",
   "execution_count": 30,
   "id": "56cde95d",
   "metadata": {
    "execution": {
     "iopub.execute_input": "2022-03-29T21:53:59.183055Z",
     "iopub.status.busy": "2022-03-29T21:53:59.181410Z",
     "iopub.status.idle": "2022-03-29T21:55:17.411067Z",
     "shell.execute_reply": "2022-03-29T21:55:17.410414Z",
     "shell.execute_reply.started": "2022-03-29T21:48:56.414449Z"
    },
    "papermill": {
     "duration": 78.304559,
     "end_time": "2022-03-29T21:55:17.411233",
     "exception": false,
     "start_time": "2022-03-29T21:53:59.106674",
     "status": "completed"
    },
    "tags": []
   },
   "outputs": [],
   "source": [
    "model_xgb = xgb.fit(x_train,y_train) #\"?xgb\" params için çeşitleri buradan görebilirim."
   ]
  },
  {
   "cell_type": "code",
   "execution_count": 31,
   "id": "a8aec05c",
   "metadata": {
    "execution": {
     "iopub.execute_input": "2022-03-29T21:55:17.565641Z",
     "iopub.status.busy": "2022-03-29T21:55:17.564952Z",
     "iopub.status.idle": "2022-03-29T21:55:17.567725Z",
     "shell.execute_reply": "2022-03-29T21:55:17.568212Z",
     "shell.execute_reply.started": "2022-03-29T21:50:15.031768Z"
    },
    "papermill": {
     "duration": 0.08596,
     "end_time": "2022-03-29T21:55:17.568393",
     "exception": false,
     "start_time": "2022-03-29T21:55:17.482433",
     "status": "completed"
    },
    "tags": []
   },
   "outputs": [
    {
     "data": {
      "text/html": [
       "<div>\n",
       "<style scoped>\n",
       "    .dataframe tbody tr th:only-of-type {\n",
       "        vertical-align: middle;\n",
       "    }\n",
       "\n",
       "    .dataframe tbody tr th {\n",
       "        vertical-align: top;\n",
       "    }\n",
       "\n",
       "    .dataframe thead th {\n",
       "        text-align: right;\n",
       "    }\n",
       "</style>\n",
       "<table border=\"1\" class=\"dataframe\">\n",
       "  <thead>\n",
       "    <tr style=\"text-align: right;\">\n",
       "      <th></th>\n",
       "      <th>tarih</th>\n",
       "      <th>ürün</th>\n",
       "      <th>ürün besin değeri</th>\n",
       "      <th>ürün kategorisi</th>\n",
       "      <th>ürün üretim yeri</th>\n",
       "      <th>şehir</th>\n",
       "      <th>gün</th>\n",
       "      <th>market</th>\n",
       "      <th>enflasyon</th>\n",
       "    </tr>\n",
       "  </thead>\n",
       "  <tbody>\n",
       "    <tr>\n",
       "      <th>9486</th>\n",
       "      <td>2</td>\n",
       "      <td>4</td>\n",
       "      <td>346</td>\n",
       "      <td>3</td>\n",
       "      <td>1</td>\n",
       "      <td>4</td>\n",
       "      <td>1</td>\n",
       "      <td>2</td>\n",
       "      <td>7.46</td>\n",
       "    </tr>\n",
       "    <tr>\n",
       "      <th>74021</th>\n",
       "      <td>19</td>\n",
       "      <td>55</td>\n",
       "      <td>110</td>\n",
       "      <td>1</td>\n",
       "      <td>1</td>\n",
       "      <td>4</td>\n",
       "      <td>1</td>\n",
       "      <td>2</td>\n",
       "      <td>10.68</td>\n",
       "    </tr>\n",
       "    <tr>\n",
       "      <th>161814</th>\n",
       "      <td>42</td>\n",
       "      <td>33</td>\n",
       "      <td>16</td>\n",
       "      <td>3</td>\n",
       "      <td>1</td>\n",
       "      <td>5</td>\n",
       "      <td>0</td>\n",
       "      <td>1</td>\n",
       "      <td>16.65</td>\n",
       "    </tr>\n",
       "    <tr>\n",
       "      <th>114344</th>\n",
       "      <td>30</td>\n",
       "      <td>51</td>\n",
       "      <td>32</td>\n",
       "      <td>3</td>\n",
       "      <td>0</td>\n",
       "      <td>1</td>\n",
       "      <td>6</td>\n",
       "      <td>2</td>\n",
       "      <td>15.85</td>\n",
       "    </tr>\n",
       "    <tr>\n",
       "      <th>80417</th>\n",
       "      <td>21</td>\n",
       "      <td>59</td>\n",
       "      <td>110</td>\n",
       "      <td>1</td>\n",
       "      <td>0</td>\n",
       "      <td>1</td>\n",
       "      <td>6</td>\n",
       "      <td>1</td>\n",
       "      <td>11.90</td>\n",
       "    </tr>\n",
       "  </tbody>\n",
       "</table>\n",
       "</div>"
      ],
      "text/plain": [
       "        tarih  ürün  ürün besin değeri  ürün kategorisi  ürün üretim yeri  \\\n",
       "9486        2     4                346                3                 1   \n",
       "74021      19    55                110                1                 1   \n",
       "161814     42    33                 16                3                 1   \n",
       "114344     30    51                 32                3                 0   \n",
       "80417      21    59                110                1                 0   \n",
       "\n",
       "        şehir  gün  market  enflasyon  \n",
       "9486        4    1       2       7.46  \n",
       "74021       4    1       2      10.68  \n",
       "161814      5    0       1      16.65  \n",
       "114344      1    6       2      15.85  \n",
       "80417       1    6       1      11.90  "
      ]
     },
     "execution_count": 31,
     "metadata": {},
     "output_type": "execute_result"
    }
   ],
   "source": [
    "x_test.shape\n",
    "x_test.head()"
   ]
  },
  {
   "cell_type": "code",
   "execution_count": 32,
   "id": "f0193762",
   "metadata": {
    "execution": {
     "iopub.execute_input": "2022-03-29T21:55:17.713117Z",
     "iopub.status.busy": "2022-03-29T21:55:17.712405Z",
     "iopub.status.idle": "2022-03-29T21:55:18.135889Z",
     "shell.execute_reply": "2022-03-29T21:55:18.135281Z",
     "shell.execute_reply.started": "2022-03-29T21:50:15.047738Z"
    },
    "papermill": {
     "duration": 0.497475,
     "end_time": "2022-03-29T21:55:18.136061",
     "exception": false,
     "start_time": "2022-03-29T21:55:17.638586",
     "status": "completed"
    },
    "tags": []
   },
   "outputs": [
    {
     "data": {
      "text/plain": [
       "array([110.383224,  39.352276,  40.302307, ...,  53.3993  ,  51.207764,\n",
       "        60.384907], dtype=float32)"
      ]
     },
     "execution_count": 32,
     "metadata": {},
     "output_type": "execute_result"
    }
   ],
   "source": [
    "results = model_xgb.predict(test2_df) #df2'yi burada ver.\n",
    "results"
   ]
  },
  {
   "cell_type": "code",
   "execution_count": null,
   "id": "f56fc7b1",
   "metadata": {
    "papermill": {
     "duration": 0.069775,
     "end_time": "2022-03-29T21:55:18.277456",
     "exception": false,
     "start_time": "2022-03-29T21:55:18.207681",
     "status": "completed"
    },
    "tags": []
   },
   "outputs": [],
   "source": []
  },
  {
   "cell_type": "code",
   "execution_count": null,
   "id": "a75af9e7",
   "metadata": {
    "papermill": {
     "duration": 0.069791,
     "end_time": "2022-03-29T21:55:18.417430",
     "exception": false,
     "start_time": "2022-03-29T21:55:18.347639",
     "status": "completed"
    },
    "tags": []
   },
   "outputs": [],
   "source": []
  },
  {
   "cell_type": "code",
   "execution_count": 33,
   "id": "109f079e",
   "metadata": {
    "execution": {
     "iopub.execute_input": "2022-03-29T21:55:18.562652Z",
     "iopub.status.busy": "2022-03-29T21:55:18.560281Z",
     "iopub.status.idle": "2022-03-29T21:55:18.565573Z",
     "shell.execute_reply": "2022-03-29T21:55:18.566120Z",
     "shell.execute_reply.started": "2022-03-29T21:50:15.506835Z"
    },
    "papermill": {
     "duration": 0.078606,
     "end_time": "2022-03-29T21:55:18.566295",
     "exception": false,
     "start_time": "2022-03-29T21:55:18.487689",
     "status": "completed"
    },
    "tags": []
   },
   "outputs": [
    {
     "data": {
      "text/plain": [
       "45504"
      ]
     },
     "execution_count": 33,
     "metadata": {},
     "output_type": "execute_result"
    }
   ],
   "source": [
    "len(results)"
   ]
  },
  {
   "cell_type": "code",
   "execution_count": 34,
   "id": "a9dba585",
   "metadata": {
    "execution": {
     "iopub.execute_input": "2022-03-29T21:55:18.711168Z",
     "iopub.status.busy": "2022-03-29T21:55:18.710470Z",
     "iopub.status.idle": "2022-03-29T21:55:18.869166Z",
     "shell.execute_reply": "2022-03-29T21:55:18.868560Z",
     "shell.execute_reply.started": "2022-03-29T21:51:01.911506Z"
    },
    "papermill": {
     "duration": 0.232594,
     "end_time": "2022-03-29T21:55:18.869307",
     "exception": false,
     "start_time": "2022-03-29T21:55:18.636713",
     "status": "completed"
    },
    "tags": []
   },
   "outputs": [],
   "source": [
    "result_df = pd.DataFrame(columns = [\"id\",\"ürün fiyatı\"])\n",
    "result_df[\"id\"] = test2_df.index.values\n",
    "result_df[\"ürün fiyatı\"] = results\n",
    "result_df = result_df.set_index(\"id\")\n",
    "\n",
    "result_df\n",
    "result_df.to_csv(\"dorduncu_sonuc.csv\")"
   ]
  },
  {
   "cell_type": "code",
   "execution_count": 35,
   "id": "198cfc0e",
   "metadata": {
    "execution": {
     "iopub.execute_input": "2022-03-29T21:55:19.019311Z",
     "iopub.status.busy": "2022-03-29T21:55:19.018345Z",
     "iopub.status.idle": "2022-03-29T21:55:19.022225Z",
     "shell.execute_reply": "2022-03-29T21:55:19.022752Z",
     "shell.execute_reply.started": "2022-03-29T21:50:15.680101Z"
    },
    "papermill": {
     "duration": 0.082393,
     "end_time": "2022-03-29T21:55:19.022934",
     "exception": false,
     "start_time": "2022-03-29T21:55:18.940541",
     "status": "completed"
    },
    "tags": []
   },
   "outputs": [
    {
     "data": {
      "text/plain": [
       "60875     20.32\n",
       "12031      6.37\n",
       "63057      5.81\n",
       "225029    38.53\n",
       "125564     3.03\n",
       "Name: ürün fiyatı, dtype: float64"
      ]
     },
     "execution_count": 35,
     "metadata": {},
     "output_type": "execute_result"
    }
   ],
   "source": [
    "y_test[15:20] #y_test"
   ]
  },
  {
   "cell_type": "code",
   "execution_count": 36,
   "id": "b647da43",
   "metadata": {
    "execution": {
     "iopub.execute_input": "2022-03-29T21:55:19.170524Z",
     "iopub.status.busy": "2022-03-29T21:55:19.169832Z",
     "iopub.status.idle": "2022-03-29T21:55:19.593170Z",
     "shell.execute_reply": "2022-03-29T21:55:19.593712Z",
     "shell.execute_reply.started": "2022-03-29T21:50:15.689615Z"
    },
    "papermill": {
     "duration": 0.499915,
     "end_time": "2022-03-29T21:55:19.593928",
     "exception": false,
     "start_time": "2022-03-29T21:55:19.094013",
     "status": "completed"
    },
    "tags": []
   },
   "outputs": [
    {
     "data": {
      "text/plain": [
       "0.9886718540128554"
      ]
     },
     "execution_count": 36,
     "metadata": {},
     "output_type": "execute_result"
    }
   ],
   "source": [
    "model_xgb.score(x_test,y_test)"
   ]
  },
  {
   "cell_type": "code",
   "execution_count": 37,
   "id": "62fbe4e6",
   "metadata": {
    "execution": {
     "iopub.execute_input": "2022-03-29T21:55:19.745460Z",
     "iopub.status.busy": "2022-03-29T21:55:19.744778Z",
     "iopub.status.idle": "2022-03-29T21:55:21.354052Z",
     "shell.execute_reply": "2022-03-29T21:55:21.353443Z",
     "shell.execute_reply.started": "2022-03-29T21:50:16.126525Z"
    },
    "papermill": {
     "duration": 1.687993,
     "end_time": "2022-03-29T21:55:21.354222",
     "exception": false,
     "start_time": "2022-03-29T21:55:19.666229",
     "status": "completed"
    },
    "tags": []
   },
   "outputs": [
    {
     "data": {
      "text/plain": [
       "0.9886643947426138"
      ]
     },
     "execution_count": 37,
     "metadata": {},
     "output_type": "execute_result"
    }
   ],
   "source": [
    "model_xgb.score(x_train,y_train)"
   ]
  },
  {
   "cell_type": "code",
   "execution_count": 38,
   "id": "0c6f47f2",
   "metadata": {
    "execution": {
     "iopub.execute_input": "2022-03-29T21:55:21.503636Z",
     "iopub.status.busy": "2022-03-29T21:55:21.502872Z",
     "iopub.status.idle": "2022-03-29T21:55:21.505943Z",
     "shell.execute_reply": "2022-03-29T21:55:21.506478Z",
     "shell.execute_reply.started": "2022-03-29T21:50:17.743133Z"
    },
    "papermill": {
     "duration": 0.079452,
     "end_time": "2022-03-29T21:55:21.506667",
     "exception": false,
     "start_time": "2022-03-29T21:55:21.427215",
     "status": "completed"
    },
    "tags": []
   },
   "outputs": [],
   "source": [
    "# params = {\n",
    "#     \"learning_rate\": [0.05,0.1,0.2,0.3],\n",
    "#     \"max_depth\": [6,5,4,3],\n",
    "#     \"n_estimators\": [500,1000,1500,2000],\n",
    "#     \"n_jobs\":[0.5,1,2,3]}\n"
   ]
  },
  {
   "cell_type": "code",
   "execution_count": 39,
   "id": "27c18845",
   "metadata": {
    "execution": {
     "iopub.execute_input": "2022-03-29T21:55:21.655449Z",
     "iopub.status.busy": "2022-03-29T21:55:21.654455Z",
     "iopub.status.idle": "2022-03-29T21:55:21.658748Z",
     "shell.execute_reply": "2022-03-29T21:55:21.658049Z",
     "shell.execute_reply.started": "2022-03-29T21:50:17.749473Z"
    },
    "papermill": {
     "duration": 0.07952,
     "end_time": "2022-03-29T21:55:21.658897",
     "exception": false,
     "start_time": "2022-03-29T21:55:21.579377",
     "status": "completed"
    },
    "tags": []
   },
   "outputs": [],
   "source": [
    "# grid = GridSearchCV(xgb,params, cv= 10, n_jobs = -1, verbose = 2)"
   ]
  },
  {
   "cell_type": "code",
   "execution_count": 40,
   "id": "6e17037f",
   "metadata": {
    "execution": {
     "iopub.execute_input": "2022-03-29T21:55:21.810289Z",
     "iopub.status.busy": "2022-03-29T21:55:21.809445Z",
     "iopub.status.idle": "2022-03-29T21:55:21.812594Z",
     "shell.execute_reply": "2022-03-29T21:55:21.811908Z",
     "shell.execute_reply.started": "2022-03-29T21:50:17.763663Z"
    },
    "papermill": {
     "duration": 0.08006,
     "end_time": "2022-03-29T21:55:21.812745",
     "exception": false,
     "start_time": "2022-03-29T21:55:21.732685",
     "status": "completed"
    },
    "tags": []
   },
   "outputs": [],
   "source": [
    "# grid.fit(x_train,y_train)"
   ]
  },
  {
   "cell_type": "code",
   "execution_count": 41,
   "id": "a2d61b68",
   "metadata": {
    "execution": {
     "iopub.execute_input": "2022-03-29T21:55:21.966438Z",
     "iopub.status.busy": "2022-03-29T21:55:21.965370Z",
     "iopub.status.idle": "2022-03-29T21:55:21.967954Z",
     "shell.execute_reply": "2022-03-29T21:55:21.968424Z",
     "shell.execute_reply.started": "2022-03-29T21:50:17.777430Z"
    },
    "papermill": {
     "duration": 0.080621,
     "end_time": "2022-03-29T21:55:21.968629",
     "exception": false,
     "start_time": "2022-03-29T21:55:21.888008",
     "status": "completed"
    },
    "tags": []
   },
   "outputs": [],
   "source": [
    "# grid.best_params_"
   ]
  },
  {
   "cell_type": "code",
   "execution_count": 42,
   "id": "b2d95c6d",
   "metadata": {
    "execution": {
     "iopub.execute_input": "2022-03-29T21:55:22.118596Z",
     "iopub.status.busy": "2022-03-29T21:55:22.117875Z",
     "iopub.status.idle": "2022-03-29T21:55:22.121131Z",
     "shell.execute_reply": "2022-03-29T21:55:22.120481Z",
     "shell.execute_reply.started": "2022-03-29T21:50:17.792273Z"
    },
    "papermill": {
     "duration": 0.079567,
     "end_time": "2022-03-29T21:55:22.121274",
     "exception": false,
     "start_time": "2022-03-29T21:55:22.041707",
     "status": "completed"
    },
    "tags": []
   },
   "outputs": [],
   "source": [
    "# y_pred = gbm_tuned.predict(x_test)\n",
    "# r2_score(y_test,y_pred)"
   ]
  },
  {
   "cell_type": "code",
   "execution_count": 43,
   "id": "5f91367e",
   "metadata": {
    "execution": {
     "iopub.execute_input": "2022-03-29T21:55:22.284924Z",
     "iopub.status.busy": "2022-03-29T21:55:22.283824Z",
     "iopub.status.idle": "2022-03-29T21:55:22.297093Z",
     "shell.execute_reply": "2022-03-29T21:55:22.297769Z",
     "shell.execute_reply.started": "2022-03-29T21:50:17.806266Z"
    },
    "papermill": {
     "duration": 0.10472,
     "end_time": "2022-03-29T21:55:22.297951",
     "exception": false,
     "start_time": "2022-03-29T21:55:22.193231",
     "status": "completed"
    },
    "tags": []
   },
   "outputs": [
    {
     "data": {
      "text/html": [
       "<div>\n",
       "<style scoped>\n",
       "    .dataframe tbody tr th:only-of-type {\n",
       "        vertical-align: middle;\n",
       "    }\n",
       "\n",
       "    .dataframe tbody tr th {\n",
       "        vertical-align: top;\n",
       "    }\n",
       "\n",
       "    .dataframe thead th {\n",
       "        text-align: right;\n",
       "    }\n",
       "</style>\n",
       "<table border=\"1\" class=\"dataframe\">\n",
       "  <thead>\n",
       "    <tr style=\"text-align: right;\">\n",
       "      <th></th>\n",
       "      <th>Importance</th>\n",
       "    </tr>\n",
       "  </thead>\n",
       "  <tbody>\n",
       "    <tr>\n",
       "      <th>tarih</th>\n",
       "      <td>0.193550</td>\n",
       "    </tr>\n",
       "    <tr>\n",
       "      <th>ürün</th>\n",
       "      <td>0.271508</td>\n",
       "    </tr>\n",
       "    <tr>\n",
       "      <th>ürün besin değeri</th>\n",
       "      <td>0.131054</td>\n",
       "    </tr>\n",
       "    <tr>\n",
       "      <th>ürün kategorisi</th>\n",
       "      <td>0.401865</td>\n",
       "    </tr>\n",
       "    <tr>\n",
       "      <th>ürün üretim yeri</th>\n",
       "      <td>0.000767</td>\n",
       "    </tr>\n",
       "    <tr>\n",
       "      <th>şehir</th>\n",
       "      <td>0.000411</td>\n",
       "    </tr>\n",
       "    <tr>\n",
       "      <th>gün</th>\n",
       "      <td>0.000083</td>\n",
       "    </tr>\n",
       "    <tr>\n",
       "      <th>market</th>\n",
       "      <td>0.000463</td>\n",
       "    </tr>\n",
       "    <tr>\n",
       "      <th>enflasyon</th>\n",
       "      <td>0.000299</td>\n",
       "    </tr>\n",
       "  </tbody>\n",
       "</table>\n",
       "</div>"
      ],
      "text/plain": [
       "                   Importance\n",
       "tarih                0.193550\n",
       "ürün                 0.271508\n",
       "ürün besin değeri    0.131054\n",
       "ürün kategorisi      0.401865\n",
       "ürün üretim yeri     0.000767\n",
       "şehir                0.000411\n",
       "gün                  0.000083\n",
       "market               0.000463\n",
       "enflasyon            0.000299"
      ]
     },
     "execution_count": 43,
     "metadata": {},
     "output_type": "execute_result"
    }
   ],
   "source": [
    "importance = pd.DataFrame({\"Importance\":model_xgb.feature_importances_}, index = x_train.columns)\n",
    "importance"
   ]
  }
 ],
 "metadata": {
  "kernelspec": {
   "display_name": "Python 3",
   "language": "python",
   "name": "python3"
  },
  "language_info": {
   "codemirror_mode": {
    "name": "ipython",
    "version": 3
   },
   "file_extension": ".py",
   "mimetype": "text/x-python",
   "name": "python",
   "nbconvert_exporter": "python",
   "pygments_lexer": "ipython3",
   "version": "3.7.12"
  },
  "papermill": {
   "default_parameters": {},
   "duration": 131.721843,
   "end_time": "2022-03-29T21:55:23.184708",
   "environment_variables": {},
   "exception": null,
   "input_path": "__notebook__.ipynb",
   "output_path": "__notebook__.ipynb",
   "parameters": {},
   "start_time": "2022-03-29T21:53:11.462865",
   "version": "2.3.3"
  }
 },
 "nbformat": 4,
 "nbformat_minor": 5
}
